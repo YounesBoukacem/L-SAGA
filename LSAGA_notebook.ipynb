{
 "cells": [
  {
   "cell_type": "markdown",
   "metadata": {},
   "source": [
    "# Introduction\n",
    "\n",
    "In this notebook, we present the implementation and the empirical study of 'L-SAGA' : our proposed learning hyper-heuristic for the flowhsop permutation problem (FPP). It uses a simulated annealing algorithm for the top level equipped with a novel add-on learning component, and an adaptation of the genetic algorithm for the FPP for the bottom level.\n",
    "\n",
    "The implementation code is first presented, then tested on each of the taillard instances benchmark."
   ]
  },
  {
   "cell_type": "markdown",
   "metadata": {},
   "source": [
    "Dependencies"
   ]
  },
  {
   "cell_type": "code",
   "execution_count": 2,
   "metadata": {},
   "outputs": [
    {
     "name": "stderr",
     "output_type": "stream",
     "text": [
      "d:\\ycondabase\\envs\\aivenv\\Lib\\site-packages\\tqdm\\auto.py:21: TqdmWarning: IProgress not found. Please update jupyter and ipywidgets. See https://ipywidgets.readthedocs.io/en/stable/user_install.html\n",
      "  from .autonotebook import tqdm as notebook_tqdm\n"
     ]
    }
   ],
   "source": [
    "import numpy as np\n",
    "import pandas as pd\n",
    "import optuna\n",
    "import copy\n",
    "import random\n",
    "import math\n",
    "import heuristics\n",
    "from tqdm import tqdm\n",
    "from matplotlib import pyplot as plt\n",
    "import os\n",
    "import datetime\n",
    "import time"
   ]
  },
  {
   "cell_type": "markdown",
   "metadata": {},
   "source": [
    "Class to hold a taillard instance"
   ]
  },
  {
   "cell_type": "code",
   "execution_count": 3,
   "metadata": {},
   "outputs": [],
   "source": [
    "class Inst:\n",
    "    def __init__(self, jobs: int, machines: int, seed: int, ub: int, lb: int, matrix: list[list[int]]):\n",
    "        \"\"\"\n",
    "        Represents an instance of the scheduling problem.\n",
    "        \n",
    "        Args:\n",
    "            jobs (int): Number of jobs.\n",
    "            machines (int): Number of machines.\n",
    "            seed (int): Seed for random number generation.\n",
    "            ub (int): Upper bound.\n",
    "            lb (int): Lower bound.\n",
    "            matrix (list[list[int]]): Matrix representing job durations on machines.\n",
    "        \"\"\"\n",
    "        self.jobs = jobs\n",
    "        self.machines = machines\n",
    "        self.seed = seed\n",
    "        self.ub = ub\n",
    "        self.lb = lb\n",
    "        self.matrix = matrix"
   ]
  },
  {
   "cell_type": "markdown",
   "metadata": {},
   "source": [
    "Function to load the instances of a taillard configuration"
   ]
  },
  {
   "cell_type": "code",
   "execution_count": 4,
   "metadata": {},
   "outputs": [],
   "source": [
    "def load_tai(nb_jobs, nb_machines):\n",
    "    with open(f\"content/tai{nb_jobs}_{nb_machines}.txt\", \"r\") as f:\n",
    "        lines = f.readlines()\n",
    "\n",
    "    instances: list[Inst] = []\n",
    "    i = 0\n",
    "    while i < len(lines):\n",
    "        params = [int(e) for e in lines[i+1].split()]\n",
    "        jobs = params[0]\n",
    "        machines = params[1]\n",
    "        seed = params[2]\n",
    "        ub = params[3]\n",
    "        lb = params[4]\n",
    "\n",
    "        matrix = [[int(e) for e in line.strip().split()] for line in lines[i+3:i+3+machines]]\n",
    "        instances.append(Inst(jobs, machines, seed, ub, lb, matrix))\n",
    "        i+=3+machines\n",
    "    \n",
    "    return instances"
   ]
  },
  {
   "cell_type": "markdown",
   "metadata": {},
   "source": [
    "Podium Bank data structure"
   ]
  },
  {
   "cell_type": "code",
   "execution_count": 5,
   "metadata": {},
   "outputs": [],
   "source": [
    "class PodiumBank:\n",
    "    def __init__(self, size=10):\n",
    "        #the bank is sorted in an ascendant manner of the make span\n",
    "        self.bank = list()\n",
    "        self.size = size\n",
    "\n",
    "    def insert(self, ms_hps): #make_span hyper_parameter_state tuple\n",
    "            insertion_index = -1\n",
    "            for i in range(len(self.bank)):\n",
    "                if ms_hps[0]<self.bank[i][0]:\n",
    "                    insertion_index = i\n",
    "                    break\n",
    "            if insertion_index != -1:\n",
    "                self.bank = self.bank[:i] + [ms_hps] + self.bank[i:self.size-1]\n",
    "            elif len(self.bank) < self.size:\n",
    "                 self.bank.append(ms_hps)"
   ]
  },
  {
   "cell_type": "markdown",
   "metadata": {},
   "source": [
    "L-SAGA implementation"
   ]
  },
  {
   "cell_type": "code",
   "execution_count": 6,
   "metadata": {},
   "outputs": [],
   "source": [
    "class LSAGA:\n",
    "    def __init__(self,\n",
    "                 tai_inst:Inst,\n",
    "                 init_type=['cds', 'palmer', 'neh', 'heuristics', 'heuristics_random', 'full_random'],\n",
    "                 selection_type=['roulette', 'rank', 'elitist', 'tournament', 'random'],\n",
    "                 crossover_type=['uniform', 'k_points'],\n",
    "                 replacement_type=['best_all', 'parents_replaced_by_offspring', 'worst_population_replaced_by_offspring', 'best_between_parents_and_offspring', 'roulette', 'rank', 'elitist', 'tournament', 'random'],\n",
    "                 population_size_mms=(20,60,10), #min_max_step\n",
    "                 pool_size_mms=(0.1, 0.9, 0.1),\n",
    "                 crossover_rate_mms=(0.1, 0.9, 0.1),\n",
    "                 mutation_rate_mms=(0.1, 0.9, 0.1),\n",
    "                 num_iterations_mms=(200, 600, 100),\n",
    "                 max_stagnation_mms=(50, 200, 50),\n",
    "                 k_points_mms=(0.1, 0.9, 0.1),\n",
    "                 variety_degree=1,\n",
    "                 num_hyper_params_neigh_window=1, #numeric hyper-parameters neighboring window size\n",
    "                 cat_neigh_ratio=0.4,\n",
    "                 podium_banck_size=10,\n",
    "                ):\n",
    "        self.tai_inst = tai_inst\n",
    "        self.jobs_list = self.get_instance(tai_inst)\n",
    "        self.nb_jobs = len(self.jobs_list)\n",
    "        self.nb_machines = len(self.jobs_list[0])\n",
    "        self.hps_star = None\n",
    "        self.seq_star = None\n",
    "        self.make_span_star = None\n",
    "        self.hyper_params = {\n",
    "            'init_type': init_type,\n",
    "            'selection_type': selection_type,\n",
    "            'crossover_type': crossover_type,\n",
    "            'replacement_type': replacement_type,\n",
    "            'population_size': [i for i in range(population_size_mms[0], population_size_mms[1]+1, population_size_mms[2])],\n",
    "            'pool_size': [pool_size_mms[0]+i*pool_size_mms[2] for i in range(int((pool_size_mms[1]-pool_size_mms[0])/pool_size_mms[2])+1)],\n",
    "            'crossover_rate': [crossover_rate_mms[0]+crossover_rate_mms[2]*i for i in range(int((crossover_rate_mms[1]-crossover_rate_mms[0])/crossover_rate_mms[2])+1)],\n",
    "            'mutation_rate': [mutation_rate_mms[0]+mutation_rate_mms[2]*i for i in range(int((mutation_rate_mms[1]-mutation_rate_mms[0])/mutation_rate_mms[2])+1)],\n",
    "            'num_iterations': [i for i in range(num_iterations_mms[0], num_iterations_mms[1]+1, num_iterations_mms[2])],\n",
    "            'max_stagnation': [i for i in range(max_stagnation_mms[0],max_stagnation_mms[1]+1,max_stagnation_mms[2])],\n",
    "        }\n",
    "        s = set(\n",
    "                [int((self.nb_jobs-1) * (0.01+i*0.01)) for i in range(10)]+ #exploring the hundredths\n",
    "                [int((self.nb_jobs-1) * (k_points_mms[0]+i*k_points_mms[2])) for i in range(int((k_points_mms[1]-k_points_mms[0])/k_points_mms[2])+1)] #exploruing above tenths\n",
    "            )\n",
    "        s.discard(0)\n",
    "        self.hyper_params['k_points'] =  list(s)\n",
    "        self.cat_hyper_params = ['init_type', 'selection_type', 'crossover_type', 'replacement_type']\n",
    "        self.num_hyper_params = ['population_size', 'pool_size', 'crossover_rate', 'mutation_rate', 'num_iterations', 'max_stagnation', 'k_points']\n",
    "        self.variable_params = [key for key in self.hyper_params.keys() if self.hyper_params[key][0] != self.hyper_params[key][-1]]\n",
    "        if variety_degree > len(self.variable_params): raise Exception(\"variety_degree > len(self.variable_params)\")\n",
    "        self.variety_degree = variety_degree\n",
    "        self.num_hyper_params_neigh_window = num_hyper_params_neigh_window\n",
    "        self.cat_neigh_ratio = cat_neigh_ratio\n",
    "        self.podium_bank = PodiumBank(size=podium_banck_size)\n",
    "        self.neh_res = heuristics.NEH(self.tai_inst)() \n",
    "        self.cds_res = heuristics.cds_heuristic(np.array(self.jobs_list)) \n",
    "        self.palmer_res = heuristics.Palmer(self.jobs_list).optim()\n",
    "\n",
    "        #stats\n",
    "        self.nb_podium_bank_usage = 0\n",
    "        self.nb_deteriorations = 0\n",
    "        self.nb_jumps = 0\n",
    "        self.hps_star_trace = []\n",
    "        self.current_make_span_trace = []\n",
    "\n",
    "\n",
    "    # utility functions for the low level genetic algorithm\n",
    "\n",
    "    def get_instance(self, tai_inst: Inst):\n",
    "        # Extract the jobs list from the given instance\n",
    "        \n",
    "        jobs_list = []\n",
    "        for i in range(len(tai_inst.matrix[0])):\n",
    "            jobs_list.append([])\n",
    "            for j in range(len(tai_inst.matrix)):\n",
    "                jobs_list[-1].append(tai_inst.matrix[j][i])\n",
    "        return jobs_list\n",
    "\n",
    "    def cumulate(self, job: list, previous_cumul=None):\n",
    "        # Calculate the cumulative completion times for a job\n",
    "        \n",
    "        res = [0] * len(job)\n",
    "        if previous_cumul == None:\n",
    "            res[0] = job[0]\n",
    "            for i in range(1, len(job)):\n",
    "                res[i] = res[i - 1] + job[i]\n",
    "        else:\n",
    "            res[0] = previous_cumul[0] + job[0]\n",
    "            for i in range(1, len(job)):\n",
    "                res[i] = max(res[i - 1], previous_cumul[i]) + job[i]\n",
    "        return res\n",
    "\n",
    "    def cumulate_seq(self, seq: list):\n",
    "        # Calculates the cumulative time for a sequence of jobs on machines.\n",
    "\n",
    "        cumulated = None\n",
    "        for i in seq:\n",
    "            cumulated = self.cumulate(self.jobs_list[i], cumulated)\n",
    "        return cumulated\n",
    "\n",
    "    def evaluate_makespan(self, schedule):\n",
    "        # Evaluates the makespan (completion time) of a given schedule.\n",
    "\n",
    "        cumulative = self.cumulate_seq(schedule)\n",
    "        return cumulative[-1]\n",
    " \n",
    "    def initialize_population(self, init_type, population_size, preced_pop):\n",
    "        \"\"\"\n",
    "        Initializes the population of individuals.\n",
    "        \n",
    "        Args:\n",
    "            init_type (str): Type of initialization method.\n",
    "            population_size (int): Size of the population.\n",
    "            \n",
    "        Returns:\n",
    "            list: Initialized population of individuals.\n",
    "        \"\"\"\n",
    "        \n",
    "        def perturb_sequence(sequence):\n",
    "            \"\"\"\n",
    "            Perturbs a sequence by swapping two random jobs.\n",
    "            \n",
    "            Args:\n",
    "                sequence (list): Sequence of jobs.\n",
    "                \n",
    "            Returns:\n",
    "                list: Perturbed sequence.\n",
    "            \"\"\"\n",
    "            perturbed_seq = sequence[:]\n",
    "            for _ in range(2):\n",
    "                i, j = random.sample(range(len(perturbed_seq)), 2)\n",
    "                perturbed_seq[i], perturbed_seq[j] = perturbed_seq[j], perturbed_seq[i]\n",
    "            return perturbed_seq\n",
    "\n",
    "        population = []\n",
    "        \n",
    "        if init_type == \"cds\":\n",
    "            cds_seq, _ = self.cds_res#heuristics.cds_resheuristic(np.array(self.jobs_list))\n",
    "            population.append(cds_seq)\n",
    "            for _ in range(population_size - 1):\n",
    "                perturbed_seq = perturb_sequence(cds_seq)\n",
    "                population.append(perturbed_seq)\n",
    "\n",
    "        elif init_type == \"palmer\":\n",
    "            palmer_seq, _ = self.palmer_res#heuristics.Palmer(self.jobs_list).optim()\n",
    "            population.append(palmer_seq)\n",
    "            for _ in range(population_size - 1):\n",
    "                perturbed_seq = perturb_sequence(palmer_seq)\n",
    "                population.append(perturbed_seq)\n",
    "\n",
    "        elif init_type == \"neh\":\n",
    "            _, neh_seq = self.neh_res#heuristics.NEH(self.tai_inst)()\n",
    "            population.append(neh_seq)\n",
    "            for _ in range(population_size - 1):\n",
    "                perturbed_seq = perturb_sequence(neh_seq)\n",
    "                population.append(perturbed_seq)\n",
    "\n",
    "        elif init_type == \"heuristics\":\n",
    "            cds_size = population_size // 3\n",
    "            palmer_size = population_size // 3\n",
    "            neh_size = population_size - cds_size - palmer_size\n",
    "            \n",
    "            for _ in range(cds_size):\n",
    "                cds_seq, _ = self.cds_res#heuristics.cds_heuristic(np.array(self.jobs_list))\n",
    "                population.append(perturb_sequence(cds_seq))\n",
    "            \n",
    "            for _ in range(palmer_size):\n",
    "                palmer_seq, _ = self.palmer_res#heuristics.Palmer(self.jobs_list).optim()\n",
    "                population.append(perturb_sequence(palmer_seq))\n",
    "            \n",
    "            for _ in range(neh_size):\n",
    "                _, neh_seq = self.neh_res#heuristics.NEH(self.tai_inst)()\n",
    "                population.append(perturb_sequence(neh_seq))\n",
    "\n",
    "        elif init_type == \"heuristics_random\":\n",
    "\n",
    "            cds_seq, _ = self.cds_res#heuristics.cds_heuristic(np.array(self.jobs_list))\n",
    "            population.append(perturb_sequence(cds_seq))\n",
    "\n",
    "            palmer_seq, _ = self.palmer_res#heuristics.Palmer(self.jobs_list).optim()\n",
    "            population.append(perturb_sequence(palmer_seq))\n",
    "\n",
    "            _, neh_seq = self.neh_res#heuristics.NEH(self.tai_inst)()\n",
    "            population.append(perturb_sequence(neh_seq))\n",
    "\n",
    "            for _ in range(population_size - 3):\n",
    "                random_seq = random.sample(range(self.nb_jobs), self.nb_jobs)\n",
    "                population.append(random_seq)\n",
    "\n",
    "        elif init_type == \"full_random\":\n",
    "\n",
    "            for _ in range(population_size):\n",
    "                random_seq = random.sample(range(self.nb_jobs), self.nb_jobs)\n",
    "                population.append(random_seq)\n",
    "\n",
    "        else:\n",
    "            raise ValueError(\"Invalid initialization type\")\n",
    "        \n",
    "        if preced_pop != None:\n",
    "            preced_pop_size = int(population_size * self.retention_factor)\n",
    "            preced_pop = random.sample(preced_pop, k=preced_pop_size)\n",
    "            new_pop_size = population_size - preced_pop_size\n",
    "            new_pop = random.sample(population, k=new_pop_size)\n",
    "            population = preced_pop + new_pop\n",
    "\n",
    "        return population\n",
    "  \n",
    "    def select_parents(self, population):\n",
    "        \"\"\"\n",
    "        Selects parents from the population using tournament selection.\n",
    "        \n",
    "        Args:\n",
    "            population (list): Population of individuals.\n",
    "            \n",
    "        Returns:\n",
    "            tuple: Pair of selected parents.\n",
    "        \"\"\"\n",
    "        tournament = random.sample(population, 3)\n",
    "        tournament.sort(key=lambda x: self.evaluate_makespan(x))\n",
    "        return tournament[0], tournament[1]\n",
    "  \n",
    "    def crossover(self, crossover_type, parent1, parent2, crossover_rate, k_points=None):\n",
    "        \"\"\"\n",
    "        Performs crossover between two parents to produce offspring.\n",
    "        \n",
    "        Args:\n",
    "            crossover_type (str): Type of crossover operation.\n",
    "            parent1 (list): First parent.\n",
    "            parent2 (list): Second parent.\n",
    "            crossover_rate (float): Rate of crossover.\n",
    "            k (int, optional): Parameter for k-point crossover. Defaults to None.\n",
    "            \n",
    "        Returns:\n",
    "            tuple: Pair of offspring.\n",
    "        \"\"\"\n",
    "\n",
    "        def ensure_each_job_once(offspring):\n",
    "            \"\"\"\n",
    "            Ensures each job appears exactly once in the offspring.\n",
    "            \n",
    "            Args:\n",
    "                offspring (list): Offspring sequence.\n",
    "            \"\"\"\n",
    "            # Ensure offspring contains each job exactly once\n",
    "            job_count = {job: 0 for job in range(self.nb_jobs)}\n",
    "            for job in offspring:\n",
    "                job_count[job] += 1\n",
    "            for i, job in enumerate(offspring):\n",
    "                if job_count[job] > 1:\n",
    "                    for swap_job, count in job_count.items():\n",
    "                        if count == 0:\n",
    "                            offspring[i] = swap_job\n",
    "                            job_count[swap_job] += 1\n",
    "                            job_count[job] -= 1\n",
    "                            break\n",
    "\n",
    "        if random.random() < crossover_rate:\n",
    "            \n",
    "            if crossover_type == 'uniform':\n",
    "                k = None\n",
    "                mask = [random.choice([0, 1]) for _ in range(len(parent1))]\n",
    "                offspring1 = [gene1 if bit else gene2 for gene1, gene2, bit in zip(parent1, parent2, mask)]\n",
    "                offspring2 = [gene1 if bit else gene2 for gene1, gene2, bit in zip(parent2, parent1, mask)]\n",
    "\n",
    "            else:\n",
    "                if k_points is None or k_points < 1:\n",
    "                    raise ValueError(\"k must be >= 1 for one_point, two_points, and k_points crossovers\")\n",
    "                \n",
    "                if k_points is not None and k_points >= self.nb_jobs:\n",
    "                    raise ValueError(\"k in crossover must be less than the number of jobs\")\n",
    "\n",
    "                if ((crossover_type == 'one_point') or (k_points == 1)):\n",
    "                    k = 1\n",
    "                    points = [random.randint(1, len(parent1) - 1)]\n",
    "\n",
    "                elif ((crossover_type == 'two_points') or (k_points == 2)):\n",
    "                    k = 2\n",
    "                    points = sorted(random.sample(range(1, len(parent1)), 2))\n",
    "\n",
    "                elif crossover_type == 'k_points':\n",
    "                    points = sorted(random.sample(range(1, len(parent1)), k_points))\n",
    "\n",
    "                else:\n",
    "                    raise ValueError(\"Invalid crossover type\")\n",
    "\n",
    "                offspring1, offspring2 = parent1[:], parent2[:]\n",
    "                switch = False\n",
    "                for i in range(len(parent1)):\n",
    "                    if i in points:\n",
    "                        switch = not switch\n",
    "                    if switch:\n",
    "                        offspring1[i], offspring2[i] = offspring2[i], offspring1[i]\n",
    "\n",
    "            ensure_each_job_once(offspring1)\n",
    "            ensure_each_job_once(offspring2)\n",
    "            return offspring1, offspring2\n",
    "        \n",
    "        else:\n",
    "            return parent1[:], parent2[:]\n",
    "\n",
    "    def mutate(self, solution, mutation_rate):\n",
    "        \"\"\"\n",
    "        Mutates a solution with a given mutation rate.\n",
    "        \n",
    "        Args:\n",
    "            solution (list): Solution to mutate.\n",
    "            mutation_rate (float): Rate of mutation.\n",
    "            \n",
    "        Returns:\n",
    "            list: Mutated solution.\n",
    "        \"\"\"\n",
    "        if random.random() < mutation_rate:\n",
    "            i, j = random.sample(range(len(solution)), 2)\n",
    "            solution[i], solution[j] = solution[j], solution[i]\n",
    "        return solution\n",
    "\n",
    "    def select_reproduction_pool(self, selection_type, population, pool_size):\n",
    "        \"\"\"\n",
    "        Selects a pool of individuals for reproduction.\n",
    "        \n",
    "        Args:\n",
    "            selection_type (str): Type of selection method.\n",
    "            population (list): Population of individuals.\n",
    "            pool_size (int): Size of the pool.\n",
    "            \n",
    "        Returns:\n",
    "            list: Pool of selected individuals.\n",
    "        \"\"\"\n",
    "        \n",
    "        chosen = []\n",
    "\n",
    "        if selection_type == \"roulette\":\n",
    "            total_fitness = sum(self.evaluate_makespan(ind) for ind in population)\n",
    "            selection_probs = [self.evaluate_makespan(ind) / total_fitness for ind in population]\n",
    "            chosen = random.choices(population, weights=selection_probs, k=pool_size)\n",
    "\n",
    "        elif selection_type == \"rank\":\n",
    "            population_sorted = sorted(population, key=self.evaluate_makespan)\n",
    "            ranks = range(1, len(population_sorted) + 1)\n",
    "            total_rank = sum(ranks)\n",
    "            rank_weights = [rank / total_rank for rank in ranks]\n",
    "            chosen = random.choices(population_sorted, weights=rank_weights, k=pool_size)\n",
    "\n",
    "        elif selection_type == \"elitist\":\n",
    "            population_sorted = sorted(population, key=self.evaluate_makespan)\n",
    "            chosen = population_sorted[:pool_size]\n",
    "\n",
    "        elif selection_type == \"tournament\":\n",
    "            for _ in range(pool_size):\n",
    "                contenders = random.sample(population, 3)\n",
    "                chosen.append(min(contenders, key=self.evaluate_makespan))\n",
    "\n",
    "        elif selection_type == \"random\":\n",
    "            chosen = random.sample(population, pool_size)\n",
    "            \n",
    "        else:\n",
    "            raise ValueError(\"Invalid type\")\n",
    "\n",
    "        return chosen\n",
    "  \n",
    "    def replace_population(self, replacement_type, population, parents, offspring, population_size):\n",
    "        \"\"\"\n",
    "        Replaces the population with new individuals.\n",
    "        \n",
    "        Args:\n",
    "            replacement_type (str): Type of replacement method.\n",
    "            population (list): Current population.\n",
    "            parents (list): Parents generated during reproduction.\n",
    "            offspring (list): Offspring generated during reproduction.\n",
    "            population_size (int): Size of the population.\n",
    "            \n",
    "        Returns:\n",
    "            list: New population.\n",
    "        \"\"\"\n",
    "        \n",
    "        def select_population(selection_type, population, pool_size):\n",
    "            \"\"\"\n",
    "            Selects individuals for the next population.\n",
    "            \n",
    "            Args:\n",
    "                selection_type (str): Type of selection method.\n",
    "                population (list): Population of individuals.\n",
    "                pool_size (int): Size of the selection pool.\n",
    "                \n",
    "            Returns:\n",
    "                list: Selected individuals for the next population.\n",
    "            \"\"\"\n",
    "            return self.select_reproduction_pool(selection_type, population, pool_size)\n",
    "\n",
    "        if replacement_type == \"best_all\":\n",
    "            combined_population = population + offspring\n",
    "            combined_population.sort(key=lambda x: self.evaluate_makespan(x))\n",
    "            return combined_population[:population_size]\n",
    "\n",
    "        elif replacement_type == \"parents_replaced_by_offspring\":\n",
    "            population_without_parents = [ind for ind in population if ind not in parents]\n",
    "            return population_without_parents + offspring\n",
    "\n",
    "        elif replacement_type == \"worst_population_replaced_by_offspring\":\n",
    "            population_sorted = sorted(population, key=self.evaluate_makespan)\n",
    "            population_without_worst = population_sorted[:-len(offspring)]\n",
    "            return population_without_worst + offspring\n",
    "\n",
    "        elif replacement_type == \"best_between_parents_and_offspring\":\n",
    "            population_without_parents = [ind for ind in population if ind not in parents]\n",
    "            combined_sub_population = sorted(parents + offspring, key=self.evaluate_makespan)\n",
    "            return population_without_parents + combined_sub_population[:len(parents)]\n",
    "        \n",
    "        else:\n",
    "            return select_population(replacement_type, population + offspring, len(population))\n",
    "\n",
    "    def genetic_algorithm(self, init_type, selection_type, crossover_type, replacement_type, population_size, pool_size, crossover_rate, mutation_rate, num_iterations, max_stagnation, k_points=None, preced_pop=None):\n",
    "        \"\"\"\n",
    "        Executes the Genetic Algorithm to find the best solution.\n",
    "        \n",
    "        Args:\n",
    "            init_type (str): Type of initialization method.\n",
    "            selection_type (str): Type of parent selection method.\n",
    "            crossover_type (str): Type of crossover method.\n",
    "            replacement_type (str): Type of population replacement method.\n",
    "            population_size (int): Size of the population.\n",
    "            pool_size (int): Size of the reproduction pool.\n",
    "            crossover_rate (float): Rate of crossover.\n",
    "            mutation_rate (float): Rate of mutation.\n",
    "            num_iterations (int): Maximum number of iterations.\n",
    "            max_stagnation (int): Maximum number of iterations without improvement.\n",
    "            k_points (int, optional): Parameter for k-point crossover. Defaults to None.\n",
    "            \n",
    "        Returns:\n",
    "            tuple: Best solution and its makespan.\n",
    "        \"\"\"\n",
    "        \n",
    "        if pool_size > population_size:\n",
    "            raise ValueError(\"Pool size must be less than population size.\")\n",
    "\n",
    "        population = self.initialize_population(init_type, population_size, preced_pop=preced_pop)\n",
    "        population.sort(key=lambda x: self.evaluate_makespan(x))\n",
    "        \n",
    "        best_solution = population[0]\n",
    "        best_solution_fitness = self.evaluate_makespan(best_solution)\n",
    "        stagnation_count = 0\n",
    "\n",
    "        for i in range(num_iterations):\n",
    "            reproduction_pool = self.select_reproduction_pool(selection_type, population, pool_size)\n",
    "            offspring = []\n",
    "            parents = []\n",
    "\n",
    "            for _ in range(pool_size // 2):\n",
    "                parent1, parent2 = self.select_parents(reproduction_pool)\n",
    "                parents.extend([parent1, parent2])\n",
    "                child1, child2 = self.crossover(crossover_type, parent1, parent2, crossover_rate, k_points) \n",
    "                child1 = self.mutate(child1, mutation_rate)\n",
    "                child2 = self.mutate(child2, mutation_rate)\n",
    "                offspring.extend([child1, child2])\n",
    "\n",
    "            population = self.replace_population(replacement_type, population, parents, offspring, population_size)\n",
    "            population.sort(key=lambda x: self.evaluate_makespan(x))\n",
    "\n",
    "            current_best_solution = population[0]\n",
    "            current_best_solution_fitness = self.evaluate_makespan(current_best_solution)\n",
    "\n",
    "            if current_best_solution_fitness < best_solution_fitness:\n",
    "                best_solution = current_best_solution\n",
    "                best_solution_fitness = current_best_solution_fitness\n",
    "                stagnation_count = 0\n",
    "            else:\n",
    "                stagnation_count += 1\n",
    "\n",
    "            if max_stagnation is not None and stagnation_count >= max_stagnation:\n",
    "                break\n",
    "\n",
    "        return best_solution, population\n",
    "\n",
    "    # utility functions for the high level simulated annealing\n",
    "\n",
    "    def init_random_hps(self):\n",
    "        hps={\n",
    "            'init_type':np.random.choice(self.hyper_params['init_type']),\n",
    "            'selection_type':np.random.choice(self.hyper_params['selection_type']),\n",
    "            'crossover_type':np.random.choice(self.hyper_params['crossover_type']),\n",
    "            'replacement_type':np.random.choice(self.hyper_params['replacement_type']),\n",
    "            'population_size':np.random.choice(self.hyper_params['population_size']),\n",
    "            'pool_size':np.random.choice(self.hyper_params['pool_size']),\n",
    "            'crossover_rate':np.random.choice(self.hyper_params['crossover_rate']),\n",
    "            'mutation_rate':np.random.choice(self.hyper_params['mutation_rate']),\n",
    "            'num_iterations':np.random.choice(self.hyper_params['num_iterations']),\n",
    "            'max_stagnation':np.random.choice(self.hyper_params['max_stagnation']),\n",
    "            'k_points':np.random.choice(self.hyper_params['k_points'])\n",
    "        }\n",
    "        return hps\n",
    "    \n",
    "    def cartesian_product(self, possible_values, keys): #the list of possible values for each dimension\n",
    "        products = [{keys[0]:value} for value in possible_values[0]]\n",
    "        for dimension_values, key in zip(possible_values[1:], keys[1:]):    \n",
    "            new_products = []\n",
    "            for product in products:\n",
    "                for value in dimension_values:\n",
    "                    new_product = dict(product)\n",
    "                    new_product[key] = value\n",
    "                    new_products.append(new_product)\n",
    "            products = new_products\n",
    "        return products\n",
    "\n",
    "    def measure_hps_dist(self, hps1, hps2):\n",
    "        dist = 0\n",
    "        for hyper_param in self.cat_hyper_params:\n",
    "            dist +=  (1 if hps1[hyper_param] == hps2[hyper_param] else 0) # * relevance_coeff ...! \n",
    "        for hyper_param in self.num_hyper_params:\n",
    "            if hyper_param not in self.variable_params: continue\n",
    "            dist += abs(hps1[hyper_param] - hps2[hyper_param]) / (self.hyper_params[hyper_param][-1] - self.hyper_params[hyper_param][0]) # * relevance_coeff ...!\n",
    "        return dist\n",
    "\n",
    "    def get_podium_score(self,neigh):\n",
    "        score = 0\n",
    "        tot_podium_make_spans = sum([1/(ms_champion[0]) for ms_champion in self.podium_bank.bank])\n",
    "        for make_span, champion in self.podium_bank.bank:\n",
    "            score += math.exp(-self.measure_hps_dist(neigh, champion)) * ((1/(make_span))/tot_podium_make_spans)\n",
    "        return score\n",
    "\n",
    "    def generate_neigh_hps(self, hps, T, beta):\n",
    "        #randomly selecting 'self.variety_degree' hyper_parameters to forcibly vary, the rest of the hyper_params can either vary or not\n",
    "        varied_keys = np.random.choice([key for key in self.variable_params], self.variety_degree, replace=False)\n",
    "        #we create the neighbor hps possible values for each hyper parameter\n",
    "        neigh_hps_values = []\n",
    "        #for each categorical hyper-param\n",
    "        for hyper_param in self.cat_hyper_params:\n",
    "            #if the hyper param is to be forcibly varied\n",
    "            if hyper_param in varied_keys:\n",
    "                neigh_space = list(self.hyper_params[hyper_param])\n",
    "                neigh_space.remove(hps[hyper_param])\n",
    "                neigh_hps_values.append(np.random.choice(neigh_space, int(self.cat_neigh_ratio * len(neigh_space)+1), replace=False))\n",
    "            else:\n",
    "                neigh_hps_values.append(np.random.choice(self.hyper_params[hyper_param], int(self.cat_neigh_ratio * len(self.hyper_params[hyper_param]))+1, replace=False))\n",
    "        #for each numercial hyper-param\n",
    "        for hyper_param in self.num_hyper_params:\n",
    "            # we get its index in the range of possible values\n",
    "            hyper_param_value_index = self.hyper_params[hyper_param].index(hps[hyper_param])\n",
    "            # we get the bottom index of the neighboring window using self.num_hyper_param_neigh_windows\n",
    "            win_bottom_index = hyper_param_value_index-self.num_hyper_params_neigh_window\n",
    "            # we check if we didn't go below 0\n",
    "            if win_bottom_index < 0: win_bottom_index = 0\n",
    "            # we create the neighboring space\n",
    "            neigh_space = self.hyper_params[hyper_param][win_bottom_index : hyper_param_value_index+self.num_hyper_params_neigh_window+1]\n",
    "            if hyper_param in varied_keys:\n",
    "                neigh_space.remove(hps[hyper_param])\n",
    "                neigh_hps_values.append(neigh_space)\n",
    "            else:\n",
    "                neigh_hps_values.append(neigh_space)\n",
    "\n",
    "        #we check if the temperature is still high ==> we are still in full exploration\n",
    "        if ( self.podium_bank.size == 0 ) or ( np.random.random() < math.exp(-(1/(beta*T))) ):\n",
    "            neighbor = {key:np.random.choice(neigh_hps_values[i]) for i, key in enumerate(self.hyper_params.keys())}\n",
    "            #neighbor = random.sample(neighbors, 1)[0]\n",
    "        #else we use the podium\n",
    "        else:\n",
    "            self.nb_podium_bank_usage += 1\n",
    "            #we generate all the possible neighbors by doing the cartesian product of the neigh values for the different dimensions \n",
    "            neighbors = self.cartesian_product(neigh_hps_values, self.cat_hyper_params + self.num_hyper_params)\n",
    "            #we affect podium scores to the neighbors\n",
    "            neigh_podium_scores = []\n",
    "            for neigh in neighbors:\n",
    "                neigh_podium_scores.append(self.get_podium_score(neigh))\n",
    "            #we randomly select the new neighbor using the podium_scores as weights\n",
    "            p = np.array(neigh_podium_scores)\n",
    "            p = p / np.sum(p)\n",
    "            neighbor = np.random.choice(neighbors, p=p)\n",
    "        return neighbor\n",
    "\n",
    "    def optim(self,\n",
    "              T=1.0,\n",
    "              T_min=0.001,\n",
    "              alpha=0.9, #decay factor\n",
    "              beta=10, #exploration factor\n",
    "              nb_iter=100,\n",
    "              length_palier=1,\n",
    "              jump_rate=0,\n",
    "              jump_ratio=1,\n",
    "              max_stag=15,\n",
    "              retention_factor=0.05,\n",
    "              debug=False,\n",
    "              trace=False\n",
    "            ):\n",
    "        #initializing the hyper_parameter_state hps randomly and computing the corresponding make_span_star\n",
    "        self.retention_factor = retention_factor\n",
    "        loc_hps_star = hps = self.init_random_hps()\n",
    "        ga_params = dict(hps)\n",
    "        ga_params['pool_size'] = int(ga_params['pool_size'] * ga_params['population_size'])\n",
    "        if (ga_params['pool_size']<=2) : ga_params['pool_size'] = 3\n",
    "        print(f\"Executing initial GA with {ga_params['num_iterations']} iterations\")\n",
    "        current_seq, population = self.genetic_algorithm(**ga_params, preced_pop=None)\n",
    "        loc_seq_star = current_seq\n",
    "        loc_make_span_star = current_make_span = old_make_span = self.evaluate_makespan(current_seq)\n",
    "        #inserting the first hps in the podium bank\n",
    "        self.podium_bank.insert((current_make_span, hps))\n",
    "        #showing some debug\n",
    "        if debug:\n",
    "            print('initial hps', hps)\n",
    "            print('initial make_span', current_make_span)\n",
    "        #preping the tracing\n",
    "        if trace:\n",
    "            self.hps_star_trace.append(loc_hps_star)\n",
    "            self.current_make_span_trace.append(current_make_span)\n",
    "        #we initialize the temperature session at length_palier\n",
    "        temp_session = length_palier\n",
    "        stag_counter = 0 # stagnation counter, once it reaches max_stag, the algorithm stops\n",
    "        self.left_of_stagnation = False\n",
    "        #main loop\n",
    "        for sa_iter in (t := tqdm(range(nb_iter))):\n",
    "            #generate a random neighbour sequence\n",
    "            new_hps = self.generate_neigh_hps(hps, T, beta)\n",
    "            #compute the energy difference\n",
    "            ga_params = dict(new_hps)\n",
    "            ga_params['pool_size'] = int(ga_params['pool_size'] * ga_params['population_size'])\n",
    "            t.set_description(f\"Temperature {T}, GA {ga_params['num_iterations'] } iters\")\n",
    "            if (ga_params['pool_size']<=2) : ga_params['pool_size'] = 3\n",
    "            neigh_seq, population = self.genetic_algorithm(**ga_params,preced_pop=population)\n",
    "            neigh_make_span = self.evaluate_makespan(neigh_seq)\n",
    "            # delta = current_make_span - neigh_make_span\n",
    "            delta = (current_make_span - neigh_make_span) / (current_make_span - self.tai_inst.lb)\n",
    "            # if the neighbour sequence is better, accept it\n",
    "            if delta > 0:\n",
    "                hps = new_hps\n",
    "                current_seq = neigh_seq\n",
    "                current_make_span = neigh_make_span\n",
    "                #we insert the new hps and its makespan into the podium bank\n",
    "                self.podium_bank.insert((current_make_span, hps))\n",
    "                # we check if the newly obtained solution is better than the current best\n",
    "                if current_make_span < loc_make_span_star:\n",
    "                    loc_hps_star = hps\n",
    "                    loc_seq_star = current_seq\n",
    "                    loc_make_span_star = current_make_span\n",
    "                    if trace:\n",
    "                        self.hps_star_trace.append(loc_hps_star)\n",
    "            #if the neighbour sequence is worse, accept it with a probability that decreases with the temperature\n",
    "            elif np.random.random() < math.exp(delta/(T)):\n",
    "                    self.nb_deteriorations += 1\n",
    "                    hps = new_hps\n",
    "                    current_seq = neigh_seq\n",
    "                    current_make_span = neigh_make_span\n",
    "                    #we insert the new hps and its makespan into the podium bank\n",
    "                    self.podium_bank.insert((current_make_span, hps))\n",
    "            #cooling\n",
    "            temp_session -= 1\n",
    "            if temp_session == 0:\n",
    "                if np.random.random() < jump_rate:\n",
    "                    self.nb_jumps += 1\n",
    "                    T = T * jump_ratio\n",
    "                else:\n",
    "                    T = T * alpha\n",
    "                temp_session = length_palier\n",
    "            if(T<=T_min): break\n",
    "            #checking for stagnation\n",
    "            if (current_make_span == old_make_span):\n",
    "                stag_counter += 1\n",
    "                if stag_counter == max_stag:\n",
    "                    self.left_of_stagnation = True\n",
    "                    break\n",
    "            else:\n",
    "                stag_counter = 0    \n",
    "            old_make_span = current_make_span \n",
    "            if trace:\n",
    "                self.current_make_span_trace.append(current_make_span)\n",
    "        self.nb_sa_iters = sa_iter\n",
    "        self.hps_star = loc_hps_star\n",
    "        self.seq_star = loc_seq_star\n",
    "        self.make_span_star = loc_make_span_star "
   ]
  },
  {
   "cell_type": "markdown",
   "metadata": {},
   "source": [
    "Demo"
   ]
  },
  {
   "cell_type": "code",
   "execution_count": null,
   "metadata": {},
   "outputs": [],
   "source": [
    "random.seed()\n",
    "tai_inst = load_tai(20, 5)\n",
    "hh = LSAGA(tai_inst[0],\n",
    "           variety_degree=5,\n",
    "           num_hyper_params_neigh_window=2, #numeric hyper-parameters neighboring window size\n",
    "           cat_neigh_ratio=0.4,\n",
    "           podium_banck_size=5)\n",
    "hh.optim(T=1,\n",
    "         T_min=0.008,\n",
    "         alpha=0.9, # decay factor\n",
    "         beta=100, # exploration factor\n",
    "         nb_iter=170,\n",
    "         length_palier=3,\n",
    "         jump_rate=0.05,\n",
    "         jump_ratio=1.15,\n",
    "         max_stag=30,\n",
    "         trace=True\n",
    "        )\n",
    "print('make_span_star', hh.make_span_star)\n",
    "print('hps_star', hh.hps_star)\n",
    "print('nb_podium_bank_usage', hh.nb_podium_bank_usage)\n",
    "print('nb_deteriorations', hh.nb_deteriorations)\n",
    "print('nb_jumps', hh.nb_jumps)\n",
    "print('left_of_stagnation', hh.left_of_stagnation)\n",
    "plt.plot(range(1, len(hh.current_make_span_trace)+1), hh.current_make_span_trace)"
   ]
  },
  {
   "cell_type": "markdown",
   "metadata": {},
   "source": [
    "function to test lsaga on taillard benchmarks"
   ]
  },
  {
   "cell_type": "code",
   "execution_count": 22,
   "metadata": {},
   "outputs": [],
   "source": [
    "def execute_lsaga(nb_jobs, nb_machines, nb_execs=3, start_inst=1, start_exec=1, num_iterations_mms=(200,600,100)):\n",
    "  date_time = datetime.datetime.now()\n",
    "  results_file_path = f'results/tai{nb_jobs}_{nb_machines}/{date_time.year}_{date_time.month}_{date_time.day}_{date_time.hour}_{date_time.minute}_{date_time.second}.txt'\n",
    "  os.makedirs(os.path.dirname(results_file_path), exist_ok=True)\n",
    "  with open(results_file_path, 'a') as f:\n",
    "      f.write(f'nb_execs_per_instance: {nb_execs}\\n')\n",
    "      f.write('\\n\\n')\n",
    "  instances = load_tai(nb_jobs, nb_machines)\n",
    "  for num_inst, instance in enumerate(instances):\n",
    "    if num_inst+1<start_inst: continue\n",
    "    print('INSTANCE:', num_inst+1)\n",
    "    mean_make_span = 0\n",
    "    min_make_span = float('infinity')\n",
    "    with open(results_file_path, 'a') as f:\n",
    "      f.write(f'num_inst: {num_inst+1}\\n')\n",
    "      f.write('\\n')\n",
    "    lsaga = LSAGA(instance,\n",
    "                  variety_degree=5,\n",
    "                  num_hyper_params_neigh_window=2, #numeric hyper-parameters neighboring window size\n",
    "                  cat_neigh_ratio=0.4,\n",
    "                  podium_banck_size=5,\n",
    "                  num_iterations_mms=num_iterations_mms\n",
    "                )\n",
    "    for exec in range(nb_execs):\n",
    "      if exec+1<start_exec: continue\n",
    "      random.seed()\n",
    "      np.random.seed()\n",
    "      print(\"===> EXEC:\", exec+1)\n",
    "      t_init = time.time()\n",
    "      t_optim = time.time()\n",
    "      lsaga.podium_bank = PodiumBank(size=5)\n",
    "      lsaga.optim(T=1,\n",
    "                  T_min=0.008,\n",
    "                  alpha=0.9, # decay factor\n",
    "                  beta=100, # exploration factor\n",
    "                  nb_iter=170,\n",
    "                  length_palier=3,\n",
    "                  jump_rate=0.05,\n",
    "                  jump_ratio=1.15,\n",
    "                  max_stag=40,\n",
    "                  trace=True)\n",
    "      t_finish = time.time()\n",
    "      mean_make_span += lsaga.make_span_star\n",
    "      if lsaga.make_span_star < min_make_span:\n",
    "        min_make_span = lsaga.make_span_star\n",
    "      with open(results_file_path, 'a') as f:\n",
    "        f.write(f'seq_star: {lsaga.seq_star}\\n')\n",
    "        f.write(f'make_span_star: {lsaga.make_span_star}\\n')\n",
    "        f.write(f'hps_star: {lsaga.hps_star}\\n')\n",
    "        f.write(f'hps_star_trace: {lsaga.hps_star_trace}\\n')\n",
    "        f.write(f'current_make_span_trace: {lsaga.current_make_span_trace}\\n')\n",
    "        f.write(f'podium_bank: {lsaga.podium_bank.bank}\\n')\n",
    "        f.write(f'nb_podium_bank_usage: {lsaga.nb_podium_bank_usage}\\n')\n",
    "        f.write(f'nb_deteriorations: {lsaga.nb_deteriorations}\\n')\n",
    "        f.write(f'nb_jumps: {lsaga.nb_jumps}\\n')\n",
    "        f.write(f'left_of_stagnation: {lsaga.left_of_stagnation}\\n')\n",
    "        f.write(f'nb_sa_iters: {lsaga.nb_sa_iters}\\n')\n",
    "        f.write(f'execution_time_with_init: {t_finish-t_init}\\n')\n",
    "        f.write(f'execution_time_without_init: {t_finish-t_optim}\\n')\n",
    "        f.write('\\n')\n",
    "    with open(results_file_path, 'a') as f:\n",
    "      f.write(f'min_make_span: {min_make_span}\\n')\n",
    "      f.write(f'mean_make_span: {mean_make_span/nb_execs}\\n')\n",
    "      f.write('\\n\\n')\n",
    "    print('\\n\\n\\n')"
   ]
  },
  {
   "cell_type": "markdown",
   "metadata": {},
   "source": [
    "# Algorithm execution"
   ]
  },
  {
   "cell_type": "markdown",
   "metadata": {},
   "source": [
    "20 jobs 5 machines"
   ]
  },
  {
   "cell_type": "code",
   "execution_count": 131,
   "metadata": {},
   "outputs": [
    {
     "name": "stdout",
     "output_type": "stream",
     "text": [
      "INSTANCE: 1\n",
      "===> EXEC: 1\n",
      "Executing initial GA with 300 iterations\n"
     ]
    },
    {
     "name": "stderr",
     "output_type": "stream",
     "text": [
      "Temperature 0.07163516982424385, GA 500 iters:  58%|█████▊    | 98/170 [02:33<01:52,  1.56s/it]\n"
     ]
    },
    {
     "name": "stdout",
     "output_type": "stream",
     "text": [
      "===> EXEC: 2\n",
      "Executing initial GA with 500 iterations\n"
     ]
    },
    {
     "name": "stderr",
     "output_type": "stream",
     "text": [
      "Temperature 0.023266670980578764, GA 400 iters:  81%|████████  | 137/170 [02:39<00:38,  1.17s/it]\n"
     ]
    },
    {
     "name": "stdout",
     "output_type": "stream",
     "text": [
      "===> EXEC: 3\n",
      "Executing initial GA with 200 iterations\n"
     ]
    },
    {
     "name": "stderr",
     "output_type": "stream",
     "text": [
      "Temperature 0.008709164298258874, GA 500 iters:  93%|█████████▎| 158/170 [09:55<00:45,  3.77s/it]\n"
     ]
    },
    {
     "name": "stdout",
     "output_type": "stream",
     "text": [
      "\n",
      "\n",
      "\n",
      "INSTANCE: 2\n",
      "===> EXEC: 1\n",
      "Executing initial GA with 400 iterations\n"
     ]
    },
    {
     "name": "stderr",
     "output_type": "stream",
     "text": [
      "Temperature 0.008414651495902294, GA 200 iters:  89%|████████▉ | 152/170 [05:08<00:36,  2.03s/it]\n"
     ]
    },
    {
     "name": "stdout",
     "output_type": "stream",
     "text": [
      "===> EXEC: 2\n",
      "Executing initial GA with 300 iterations\n"
     ]
    },
    {
     "name": "stderr",
     "output_type": "stream",
     "text": [
      "Temperature 0.009033442292970796, GA 200 iters:  83%|████████▎ | 141/170 [04:49<00:59,  2.05s/it]\n"
     ]
    },
    {
     "name": "stdout",
     "output_type": "stream",
     "text": [
      "===> EXEC: 3\n",
      "Executing initial GA with 200 iterations\n"
     ]
    },
    {
     "name": "stderr",
     "output_type": "stream",
     "text": [
      "Temperature 0.008130098063673714, GA 400 iters:  86%|████████▌ | 146/170 [04:13<00:41,  1.73s/it]\n"
     ]
    },
    {
     "name": "stdout",
     "output_type": "stream",
     "text": [
      "\n",
      "\n",
      "\n",
      "INSTANCE: 3\n",
      "===> EXEC: 1\n",
      "Executing initial GA with 400 iterations\n"
     ]
    },
    {
     "name": "stderr",
     "output_type": "stream",
     "text": [
      "Temperature 0.07178979876918531, GA 300 iters:  45%|████▌     | 77/170 [02:14<02:42,  1.75s/it]\n"
     ]
    },
    {
     "name": "stdout",
     "output_type": "stream",
     "text": [
      "===> EXEC: 2\n",
      "Executing initial GA with 300 iterations\n"
     ]
    },
    {
     "name": "stderr",
     "output_type": "stream",
     "text": [
      "Temperature 0.016423203268260675, GA 400 iters:  69%|██████▉   | 117/170 [04:27<02:01,  2.28s/it]\n"
     ]
    },
    {
     "name": "stdout",
     "output_type": "stream",
     "text": [
      "===> EXEC: 3\n",
      "Executing initial GA with 200 iterations\n"
     ]
    },
    {
     "name": "stderr",
     "output_type": "stream",
     "text": [
      "Temperature 0.020231887809198927, GA 500 iters:  78%|███████▊  | 132/170 [03:45<01:04,  1.71s/it]\n"
     ]
    },
    {
     "name": "stdout",
     "output_type": "stream",
     "text": [
      "\n",
      "\n",
      "\n",
      "INSTANCE: 4\n",
      "===> EXEC: 1\n",
      "Executing initial GA with 400 iterations\n"
     ]
    },
    {
     "name": "stderr",
     "output_type": "stream",
     "text": [
      "Temperature 0.008414651495902295, GA 500 iters:  89%|████████▉ | 152/170 [14:41<01:44,  5.80s/it]\n"
     ]
    },
    {
     "name": "stdout",
     "output_type": "stream",
     "text": [
      "===> EXEC: 2\n",
      "Executing initial GA with 600 iterations\n"
     ]
    },
    {
     "name": "stderr",
     "output_type": "stream",
     "text": [
      "Temperature 0.008727963568087723, GA 200 iters:  81%|████████  | 137/170 [11:04<02:39,  4.85s/it]\n"
     ]
    },
    {
     "name": "stdout",
     "output_type": "stream",
     "text": [
      "===> EXEC: 3\n",
      "Executing initial GA with 300 iterations\n"
     ]
    },
    {
     "name": "stderr",
     "output_type": "stream",
     "text": [
      "Temperature 0.01075205468920848, GA 200 iters:  88%|████████▊ | 150/170 [06:27<00:51,  2.58s/it] \n"
     ]
    },
    {
     "name": "stdout",
     "output_type": "stream",
     "text": [
      "\n",
      "\n",
      "\n",
      "INSTANCE: 5\n",
      "===> EXEC: 1\n",
      "Executing initial GA with 300 iterations\n"
     ]
    },
    {
     "name": "stderr",
     "output_type": "stream",
     "text": [
      "Temperature 0.009329474525402363, GA 300 iters: 100%|██████████| 170/170 [06:34<00:00,  2.32s/it]\n"
     ]
    },
    {
     "name": "stdout",
     "output_type": "stream",
     "text": [
      "===> EXEC: 2\n",
      "Executing initial GA with 500 iterations\n"
     ]
    },
    {
     "name": "stderr",
     "output_type": "stream",
     "text": [
      "Temperature 0.008709164298258871, GA 600 iters:  93%|█████████▎| 158/170 [07:47<00:35,  2.96s/it]\n"
     ]
    },
    {
     "name": "stdout",
     "output_type": "stream",
     "text": [
      "===> EXEC: 3\n",
      "Executing initial GA with 200 iterations\n"
     ]
    },
    {
     "name": "stderr",
     "output_type": "stream",
     "text": [
      "Temperature 0.0769030271865205, GA 400 iters:  52%|█████▏    | 88/170 [02:04<01:55,  1.41s/it] \n"
     ]
    },
    {
     "name": "stdout",
     "output_type": "stream",
     "text": [
      "\n",
      "\n",
      "\n",
      "INSTANCE: 6\n",
      "===> EXEC: 1\n",
      "Executing initial GA with 300 iterations\n"
     ]
    },
    {
     "name": "stderr",
     "output_type": "stream",
     "text": [
      "Temperature 0.05416648001833186, GA 500 iters:  54%|█████▎    | 91/170 [01:59<01:43,  1.32s/it]\n"
     ]
    },
    {
     "name": "stdout",
     "output_type": "stream",
     "text": [
      "===> EXEC: 2\n",
      "Executing initial GA with 300 iterations\n"
     ]
    },
    {
     "name": "stderr",
     "output_type": "stream",
     "text": [
      "Temperature 0.028786288307422303, GA 500 iters:  64%|██████▍   | 109/170 [03:46<02:06,  2.08s/it]\n"
     ]
    },
    {
     "name": "stdout",
     "output_type": "stream",
     "text": [
      "===> EXEC: 3\n",
      "Executing initial GA with 600 iterations\n"
     ]
    },
    {
     "name": "stderr",
     "output_type": "stream",
     "text": [
      "Temperature 0.10192378837600383, GA 600 iters:  44%|████▎     | 74/170 [01:32<02:00,  1.25s/it]\n"
     ]
    },
    {
     "name": "stdout",
     "output_type": "stream",
     "text": [
      "\n",
      "\n",
      "\n",
      "INSTANCE: 7\n",
      "===> EXEC: 1\n",
      "Executing initial GA with 600 iterations\n"
     ]
    },
    {
     "name": "stderr",
     "output_type": "stream",
     "text": [
      "Temperature 0.04531265834758517, GA 300 iters:  72%|███████▏  | 123/170 [03:15<01:14,  1.59s/it] \n"
     ]
    },
    {
     "name": "stdout",
     "output_type": "stream",
     "text": [
      "===> EXEC: 2\n",
      "Executing initial GA with 500 iterations\n"
     ]
    },
    {
     "name": "stderr",
     "output_type": "stream",
     "text": [
      "Temperature 0.02781283894436938, GA 600 iters:  60%|██████    | 102/170 [02:18<01:32,  1.36s/it] \n"
     ]
    },
    {
     "name": "stdout",
     "output_type": "stream",
     "text": [
      "===> EXEC: 3\n",
      "Executing initial GA with 600 iterations\n"
     ]
    },
    {
     "name": "stderr",
     "output_type": "stream",
     "text": [
      "Temperature 0.04710128697246249, GA 200 iters:  52%|█████▏    | 88/170 [01:56<01:48,  1.32s/it]\n"
     ]
    },
    {
     "name": "stdout",
     "output_type": "stream",
     "text": [
      "\n",
      "\n",
      "\n",
      "INSTANCE: 8\n",
      "===> EXEC: 1\n",
      "Executing initial GA with 200 iterations\n"
     ]
    },
    {
     "name": "stderr",
     "output_type": "stream",
     "text": [
      "Temperature 0.008414651495902294, GA 400 iters:  89%|████████▉ | 152/170 [09:15<01:05,  3.65s/it]\n"
     ]
    },
    {
     "name": "stdout",
     "output_type": "stream",
     "text": [
      "===> EXEC: 2\n",
      "Executing initial GA with 500 iterations\n"
     ]
    },
    {
     "name": "stderr",
     "output_type": "stream",
     "text": [
      "Temperature 0.02326667098057876, GA 300 iters:  81%|████████  | 137/170 [04:00<00:57,  1.76s/it] \n"
     ]
    },
    {
     "name": "stdout",
     "output_type": "stream",
     "text": [
      "===> EXEC: 3\n",
      "Executing initial GA with 400 iterations\n"
     ]
    },
    {
     "name": "stderr",
     "output_type": "stream",
     "text": [
      "Temperature 0.008414651495902294, GA 500 iters:  89%|████████▉ | 152/170 [08:25<00:59,  3.33s/it]\n"
     ]
    },
    {
     "name": "stdout",
     "output_type": "stream",
     "text": [
      "\n",
      "\n",
      "\n",
      "INSTANCE: 9\n",
      "===> EXEC: 1\n",
      "Executing initial GA with 600 iterations\n"
     ]
    },
    {
     "name": "stderr",
     "output_type": "stream",
     "text": [
      "Temperature 0.03678247950392849, GA 200 iters:  64%|██████▍   | 109/170 [02:25<01:21,  1.34s/it]\n"
     ]
    },
    {
     "name": "stdout",
     "output_type": "stream",
     "text": [
      "===> EXEC: 2\n",
      "Executing initial GA with 500 iterations\n"
     ]
    },
    {
     "name": "stderr",
     "output_type": "stream",
     "text": [
      "Temperature 0.035462080445936225, GA 500 iters:  74%|███████▎  | 125/170 [04:09<01:29,  2.00s/it]\n"
     ]
    },
    {
     "name": "stdout",
     "output_type": "stream",
     "text": [
      "===> EXEC: 3\n",
      "Executing initial GA with 600 iterations\n"
     ]
    },
    {
     "name": "stderr",
     "output_type": "stream",
     "text": [
      "Temperature 0.09826497918277623, GA 500 iters:  51%|█████     | 87/170 [02:47<02:39,  1.93s/it]\n"
     ]
    },
    {
     "name": "stdout",
     "output_type": "stream",
     "text": [
      "\n",
      "\n",
      "\n",
      "INSTANCE: 10\n",
      "===> EXEC: 1\n",
      "Executing initial GA with 600 iterations\n"
     ]
    },
    {
     "name": "stderr",
     "output_type": "stream",
     "text": [
      "Temperature 0.060184977798146494, GA 600 iters:  51%|█████     | 87/170 [02:06<02:00,  1.45s/it]\n"
     ]
    },
    {
     "name": "stdout",
     "output_type": "stream",
     "text": [
      "===> EXEC: 2\n",
      "Executing initial GA with 600 iterations\n"
     ]
    },
    {
     "name": "stderr",
     "output_type": "stream",
     "text": [
      "Temperature 0.008130098063673714, GA 200 iters:  86%|████████▌ | 146/170 [05:03<00:49,  2.08s/it]\n"
     ]
    },
    {
     "name": "stdout",
     "output_type": "stream",
     "text": [
      "===> EXEC: 3\n",
      "Executing initial GA with 400 iterations\n"
     ]
    },
    {
     "name": "stderr",
     "output_type": "stream",
     "text": [
      "Temperature 0.030770172371815396, GA 300 iters:  83%|████████▎ | 141/170 [03:02<00:37,  1.29s/it]"
     ]
    },
    {
     "name": "stdout",
     "output_type": "stream",
     "text": [
      "\n",
      "\n",
      "\n"
     ]
    },
    {
     "name": "stderr",
     "output_type": "stream",
     "text": [
      "\n"
     ]
    }
   ],
   "source": [
    "execute_lsaga(20, 5)"
   ]
  },
  {
   "cell_type": "markdown",
   "metadata": {},
   "source": [
    "20 jobs 10 machines"
   ]
  },
  {
   "cell_type": "code",
   "execution_count": 139,
   "metadata": {},
   "outputs": [
    {
     "name": "stdout",
     "output_type": "stream",
     "text": [
      "INSTANCE: 1\n",
      "===> EXEC: 1\n",
      "Executing initial GA with 300 iterations\n"
     ]
    },
    {
     "name": "stderr",
     "output_type": "stream",
     "text": [
      "Temperature 0.00841465149590229, GA 400 iters:  89%|████████▉ | 152/170 [07:23<00:52,  2.92s/it] \n"
     ]
    },
    {
     "name": "stdout",
     "output_type": "stream",
     "text": [
      "===> EXEC: 2\n",
      "Executing initial GA with 600 iterations\n"
     ]
    },
    {
     "name": "stderr",
     "output_type": "stream",
     "text": [
      "Temperature 0.008414651495902294, GA 600 iters:  89%|████████▉ | 152/170 [08:04<00:57,  3.19s/it]\n"
     ]
    },
    {
     "name": "stdout",
     "output_type": "stream",
     "text": [
      "===> EXEC: 3\n",
      "Executing initial GA with 400 iterations\n"
     ]
    },
    {
     "name": "stderr",
     "output_type": "stream",
     "text": [
      "Temperature 0.018846003494268803, GA 300 iters:  83%|████████▎ | 141/170 [07:33<01:33,  3.22s/it]\n"
     ]
    },
    {
     "name": "stdout",
     "output_type": "stream",
     "text": [
      "\n",
      "\n",
      "\n",
      "INSTANCE: 2\n",
      "===> EXEC: 1\n",
      "Executing initial GA with 600 iterations\n"
     ]
    },
    {
     "name": "stderr",
     "output_type": "stream",
     "text": [
      "Temperature 0.008112586543828139, GA 500 iters:  98%|█████████▊| 167/170 [10:09<00:10,  3.65s/it]\n"
     ]
    },
    {
     "name": "stdout",
     "output_type": "stream",
     "text": [
      "===> EXEC: 2\n",
      "Executing initial GA with 400 iterations\n"
     ]
    },
    {
     "name": "stderr",
     "output_type": "stream",
     "text": [
      "Temperature 0.008130098063673716, GA 300 iters:  86%|████████▌ | 146/170 [09:59<01:38,  4.11s/it]\n"
     ]
    },
    {
     "name": "stdout",
     "output_type": "stream",
     "text": [
      "===> EXEC: 3\n",
      "Executing initial GA with 600 iterations\n"
     ]
    },
    {
     "name": "stderr",
     "output_type": "stream",
     "text": [
      "Temperature 0.008709164298258871, GA 200 iters:  93%|█████████▎| 158/170 [07:52<00:35,  2.99s/it]\n"
     ]
    },
    {
     "name": "stdout",
     "output_type": "stream",
     "text": [
      "\n",
      "\n",
      "\n",
      "INSTANCE: 3\n",
      "===> EXEC: 1\n",
      "Executing initial GA with 600 iterations\n"
     ]
    },
    {
     "name": "stderr",
     "output_type": "stream",
     "text": [
      "Temperature 0.009013985048697933, GA 300 iters:  96%|█████████▌| 163/170 [09:39<00:24,  3.56s/it]\n"
     ]
    },
    {
     "name": "stdout",
     "output_type": "stream",
     "text": [
      "===> EXEC: 2\n",
      "Executing initial GA with 400 iterations\n"
     ]
    },
    {
     "name": "stderr",
     "output_type": "stream",
     "text": [
      "Temperature 0.009329474525402365, GA 400 iters: 100%|██████████| 170/170 [08:46<00:00,  3.10s/it]\n"
     ]
    },
    {
     "name": "stdout",
     "output_type": "stream",
     "text": [
      "===> EXEC: 3\n",
      "Executing initial GA with 300 iterations\n"
     ]
    },
    {
     "name": "stderr",
     "output_type": "stream",
     "text": [
      "Temperature 0.009676849220287633, GA 600 iters:  91%|█████████ | 154/170 [06:06<00:38,  2.38s/it]\n"
     ]
    },
    {
     "name": "stdout",
     "output_type": "stream",
     "text": [
      "\n",
      "\n",
      "\n",
      "INSTANCE: 4\n",
      "===> EXEC: 1\n",
      "Executing initial GA with 200 iterations\n"
     ]
    },
    {
     "name": "stderr",
     "output_type": "stream",
     "text": [
      "Temperature 0.008130098063673714, GA 600 iters:  86%|████████▌ | 146/170 [07:23<01:12,  3.04s/it]\n"
     ]
    },
    {
     "name": "stdout",
     "output_type": "stream",
     "text": [
      "===> EXEC: 2\n",
      "Executing initial GA with 500 iterations\n"
     ]
    },
    {
     "name": "stderr",
     "output_type": "stream",
     "text": [
      "Temperature 0.01038845863691641, GA 300 iters:  85%|████████▍ | 144/170 [05:55<01:04,  2.47s/it] \n"
     ]
    },
    {
     "name": "stdout",
     "output_type": "stream",
     "text": [
      "===> EXEC: 3\n",
      "Executing initial GA with 300 iterations\n"
     ]
    },
    {
     "name": "stderr",
     "output_type": "stream",
     "text": [
      "Temperature 0.027693155134633867, GA 300 iters:  86%|████████▌ | 146/170 [06:51<01:07,  2.82s/it]\n"
     ]
    },
    {
     "name": "stdout",
     "output_type": "stream",
     "text": [
      "\n",
      "\n",
      "\n",
      "INSTANCE: 5\n",
      "===> EXEC: 1\n",
      "Executing initial GA with 600 iterations\n"
     ]
    },
    {
     "name": "stderr",
     "output_type": "stream",
     "text": [
      "Temperature 0.008727963568087723, GA 600 iters:  81%|████████  | 137/170 [06:04<01:27,  2.66s/it]\n"
     ]
    },
    {
     "name": "stdout",
     "output_type": "stream",
     "text": [
      "===> EXEC: 2\n",
      "Executing initial GA with 600 iterations\n"
     ]
    },
    {
     "name": "stderr",
     "output_type": "stream",
     "text": [
      "Temperature 0.018886683758499775, GA 200 iters:  71%|███████   | 120/170 [04:21<01:49,  2.18s/it]\n"
     ]
    },
    {
     "name": "stdout",
     "output_type": "stream",
     "text": [
      "===> EXEC: 3\n",
      "Executing initial GA with 300 iterations\n"
     ]
    },
    {
     "name": "stderr",
     "output_type": "stream",
     "text": [
      "Temperature 0.008709164298258873, GA 500 iters:  93%|█████████▎| 158/170 [10:29<00:47,  3.98s/it]\n"
     ]
    },
    {
     "name": "stdout",
     "output_type": "stream",
     "text": [
      "\n",
      "\n",
      "\n",
      "INSTANCE: 6\n",
      "===> EXEC: 1\n",
      "Executing initial GA with 400 iterations\n"
     ]
    },
    {
     "name": "stderr",
     "output_type": "stream",
     "text": [
      "Temperature 0.04541046852336851, GA 600 iters:  61%|██████    | 103/170 [06:48<04:25,  3.96s/it] \n"
     ]
    },
    {
     "name": "stdout",
     "output_type": "stream",
     "text": [
      "===> EXEC: 2\n",
      "Executing initial GA with 600 iterations\n"
     ]
    },
    {
     "name": "stderr",
     "output_type": "stream",
     "text": [
      "Temperature 0.00841465149590229, GA 600 iters:  89%|████████▉ | 152/170 [10:01<01:11,  3.96s/it] \n"
     ]
    },
    {
     "name": "stdout",
     "output_type": "stream",
     "text": [
      "===> EXEC: 3\n",
      "Executing initial GA with 400 iterations\n"
     ]
    },
    {
     "name": "stderr",
     "output_type": "stream",
     "text": [
      "Temperature 0.008727963568087723, GA 300 iters:  81%|████████  | 137/170 [13:19<03:12,  5.84s/it]\n"
     ]
    },
    {
     "name": "stdout",
     "output_type": "stream",
     "text": [
      "\n",
      "\n",
      "\n",
      "INSTANCE: 7\n",
      "===> EXEC: 1\n",
      "Executing initial GA with 500 iterations\n"
     ]
    },
    {
     "name": "stderr",
     "output_type": "stream",
     "text": [
      "Temperature 0.01759294592104254, GA 600 iters:  76%|███████▌  | 129/170 [07:13<02:17,  3.36s/it] \n"
     ]
    },
    {
     "name": "stdout",
     "output_type": "stream",
     "text": [
      "===> EXEC: 2\n",
      "Executing initial GA with 500 iterations\n"
     ]
    },
    {
     "name": "stderr",
     "output_type": "stream",
     "text": [
      "Temperature 0.008727963568087723, GA 400 iters:  81%|████████  | 137/170 [10:28<02:31,  4.59s/it]\n"
     ]
    },
    {
     "name": "stdout",
     "output_type": "stream",
     "text": [
      "===> EXEC: 3\n",
      "Executing initial GA with 400 iterations\n"
     ]
    },
    {
     "name": "stderr",
     "output_type": "stream",
     "text": [
      "Temperature 0.008414651495902294, GA 200 iters:  89%|████████▉ | 152/170 [07:07<00:50,  2.81s/it]\n"
     ]
    },
    {
     "name": "stdout",
     "output_type": "stream",
     "text": [
      "\n",
      "\n",
      "\n",
      "INSTANCE: 8\n",
      "===> EXEC: 1\n",
      "Executing initial GA with 600 iterations\n"
     ]
    },
    {
     "name": "stderr",
     "output_type": "stream",
     "text": [
      "Temperature 0.010752054689208486, GA 500 iters:  89%|████████▉ | 151/170 [06:20<00:47,  2.52s/it]\n"
     ]
    },
    {
     "name": "stdout",
     "output_type": "stream",
     "text": [
      "===> EXEC: 2\n",
      "Executing initial GA with 400 iterations\n"
     ]
    },
    {
     "name": "stderr",
     "output_type": "stream",
     "text": [
      "Temperature 0.011128376603330785, GA 600 iters:  92%|█████████▏| 157/170 [09:02<00:44,  3.45s/it]\n"
     ]
    },
    {
     "name": "stdout",
     "output_type": "stream",
     "text": [
      "===> EXEC: 3\n",
      "Executing initial GA with 400 iterations\n"
     ]
    },
    {
     "name": "stderr",
     "output_type": "stream",
     "text": [
      "Temperature 0.022479875343554348, GA 400 iters:  76%|███████▌  | 129/170 [04:25<01:24,  2.06s/it]\n"
     ]
    },
    {
     "name": "stdout",
     "output_type": "stream",
     "text": [
      "\n",
      "\n",
      "\n",
      "INSTANCE: 9\n",
      "===> EXEC: 1\n",
      "Executing initial GA with 600 iterations\n"
     ]
    },
    {
     "name": "stderr",
     "output_type": "stream",
     "text": [
      "Temperature 0.008414651495902294, GA 200 iters:  89%|████████▉ | 152/170 [07:02<00:50,  2.78s/it]\n"
     ]
    },
    {
     "name": "stdout",
     "output_type": "stream",
     "text": [
      "===> EXEC: 2\n",
      "Executing initial GA with 200 iterations\n"
     ]
    },
    {
     "name": "stderr",
     "output_type": "stream",
     "text": [
      "Temperature 0.016352531175449957, GA 500 iters:  94%|█████████▎| 159/170 [04:32<00:18,  1.72s/it]\n"
     ]
    },
    {
     "name": "stdout",
     "output_type": "stream",
     "text": [
      "===> EXEC: 3\n",
      "Executing initial GA with 200 iterations\n"
     ]
    },
    {
     "name": "stderr",
     "output_type": "stream",
     "text": [
      "Temperature 0.011152397892556537, GA 300 iters:  81%|████████  | 137/170 [07:02<01:41,  3.08s/it]\n"
     ]
    },
    {
     "name": "stdout",
     "output_type": "stream",
     "text": [
      "\n",
      "\n",
      "\n",
      "INSTANCE: 10\n",
      "===> EXEC: 1\n",
      "Executing initial GA with 400 iterations\n"
     ]
    },
    {
     "name": "stderr",
     "output_type": "stream",
     "text": [
      "Temperature 0.008414651495902294, GA 400 iters:  89%|████████▉ | 152/170 [06:40<00:47,  2.63s/it]\n"
     ]
    },
    {
     "name": "stdout",
     "output_type": "stream",
     "text": [
      "===> EXEC: 2\n",
      "Executing initial GA with 200 iterations\n"
     ]
    },
    {
     "name": "stderr",
     "output_type": "stream",
     "text": [
      "Temperature 0.00811258654382814, GA 400 iters:  98%|█████████▊| 167/170 [07:22<00:07,  2.65s/it] \n"
     ]
    },
    {
     "name": "stdout",
     "output_type": "stream",
     "text": [
      "===> EXEC: 3\n",
      "Executing initial GA with 400 iterations\n"
     ]
    },
    {
     "name": "stderr",
     "output_type": "stream",
     "text": [
      "Temperature 0.008112586543828135, GA 400 iters:  98%|█████████▊| 167/170 [06:47<00:07,  2.44s/it]"
     ]
    },
    {
     "name": "stdout",
     "output_type": "stream",
     "text": [
      "\n",
      "\n",
      "\n"
     ]
    },
    {
     "name": "stderr",
     "output_type": "stream",
     "text": [
      "\n"
     ]
    }
   ],
   "source": [
    "execute_lsaga(20, 10)"
   ]
  },
  {
   "cell_type": "markdown",
   "metadata": {},
   "source": [
    "20 jobs 20 machines"
   ]
  },
  {
   "cell_type": "code",
   "execution_count": 140,
   "metadata": {},
   "outputs": [
    {
     "name": "stdout",
     "output_type": "stream",
     "text": [
      "INSTANCE: 1\n",
      "===> EXEC: 1\n",
      "Executing initial GA with 500 iterations\n"
     ]
    },
    {
     "name": "stderr",
     "output_type": "stream",
     "text": [
      "Temperature 0.00811258654382814, GA 600 iters:  98%|█████████▊| 167/170 [17:00<00:18,  6.11s/it] \n"
     ]
    },
    {
     "name": "stdout",
     "output_type": "stream",
     "text": [
      "===> EXEC: 2\n",
      "Executing initial GA with 200 iterations\n"
     ]
    },
    {
     "name": "stderr",
     "output_type": "stream",
     "text": [
      "Temperature 0.009329474525402363, GA 500 iters: 100%|██████████| 170/170 [15:36<00:00,  5.51s/it]\n"
     ]
    },
    {
     "name": "stdout",
     "output_type": "stream",
     "text": [
      "===> EXEC: 3\n",
      "Executing initial GA with 600 iterations\n"
     ]
    },
    {
     "name": "stderr",
     "output_type": "stream",
     "text": [
      "Temperature 0.008130098063673716, GA 300 iters:  86%|████████▌ | 146/170 [12:07<01:59,  4.99s/it]\n"
     ]
    },
    {
     "name": "stdout",
     "output_type": "stream",
     "text": [
      "\n",
      "\n",
      "\n",
      "INSTANCE: 2\n",
      "===> EXEC: 1\n",
      "Executing initial GA with 500 iterations\n"
     ]
    },
    {
     "name": "stderr",
     "output_type": "stream",
     "text": [
      "Temperature 0.008709164298258874, GA 400 iters:  93%|█████████▎| 158/170 [08:35<00:39,  3.26s/it]\n"
     ]
    },
    {
     "name": "stdout",
     "output_type": "stream",
     "text": [
      "===> EXEC: 2\n",
      "Executing initial GA with 500 iterations\n"
     ]
    },
    {
     "name": "stderr",
     "output_type": "stream",
     "text": [
      "Temperature 0.008709164298258874, GA 500 iters:  93%|█████████▎| 158/170 [16:32<01:15,  6.28s/it]\n"
     ]
    },
    {
     "name": "stdout",
     "output_type": "stream",
     "text": [
      "===> EXEC: 3\n",
      "Executing initial GA with 600 iterations\n"
     ]
    },
    {
     "name": "stderr",
     "output_type": "stream",
     "text": [
      "Temperature 0.008130098063673714, GA 300 iters:  86%|████████▌ | 146/170 [14:01<02:18,  5.76s/it]\n"
     ]
    },
    {
     "name": "stdout",
     "output_type": "stream",
     "text": [
      "\n",
      "\n",
      "\n",
      "INSTANCE: 3\n",
      "===> EXEC: 1\n",
      "Executing initial GA with 500 iterations\n"
     ]
    },
    {
     "name": "stderr",
     "output_type": "stream",
     "text": [
      "Temperature 0.011972515182562033, GA 300 iters:  75%|███████▌  | 128/170 [08:20<02:44,  3.91s/it]\n"
     ]
    },
    {
     "name": "stdout",
     "output_type": "stream",
     "text": [
      "===> EXEC: 2\n",
      "Executing initial GA with 400 iterations\n"
     ]
    },
    {
     "name": "stderr",
     "output_type": "stream",
     "text": [
      "Temperature 0.008727963568087723, GA 600 iters:  81%|████████  | 137/170 [11:16<02:42,  4.94s/it]\n"
     ]
    },
    {
     "name": "stdout",
     "output_type": "stream",
     "text": [
      "===> EXEC: 3\n",
      "Executing initial GA with 300 iterations\n"
     ]
    },
    {
     "name": "stderr",
     "output_type": "stream",
     "text": [
      "Temperature 0.008709164298258874, GA 300 iters:  93%|█████████▎| 158/170 [21:21<01:37,  8.11s/it]   \n"
     ]
    },
    {
     "name": "stdout",
     "output_type": "stream",
     "text": [
      "\n",
      "\n",
      "\n",
      "INSTANCE: 4\n",
      "===> EXEC: 1\n",
      "Executing initial GA with 200 iterations\n"
     ]
    },
    {
     "name": "stderr",
     "output_type": "stream",
     "text": [
      "Temperature 0.008112586543828135, GA 400 iters:  98%|█████████▊| 167/170 [11:55<00:12,  4.29s/it]\n"
     ]
    },
    {
     "name": "stdout",
     "output_type": "stream",
     "text": [
      "===> EXEC: 2\n",
      "Executing initial GA with 600 iterations\n"
     ]
    },
    {
     "name": "stderr",
     "output_type": "stream",
     "text": [
      "Temperature 0.008112586543828144, GA 400 iters:  98%|█████████▊| 167/170 [12:25<00:13,  4.46s/it]\n"
     ]
    },
    {
     "name": "stdout",
     "output_type": "stream",
     "text": [
      "===> EXEC: 3\n",
      "Executing initial GA with 600 iterations\n"
     ]
    },
    {
     "name": "stderr",
     "output_type": "stream",
     "text": [
      "Temperature 0.008112586543828145, GA 300 iters:  98%|█████████▊| 167/170 [10:23<00:11,  3.73s/it]\n"
     ]
    },
    {
     "name": "stdout",
     "output_type": "stream",
     "text": [
      "\n",
      "\n",
      "\n",
      "INSTANCE: 5\n",
      "===> EXEC: 1\n",
      "Executing initial GA with 500 iterations\n"
     ]
    },
    {
     "name": "stderr",
     "output_type": "stream",
     "text": [
      "Temperature 0.008112586543828145, GA 500 iters:  98%|█████████▊| 167/170 [12:02<00:12,  4.32s/it]\n"
     ]
    },
    {
     "name": "stdout",
     "output_type": "stream",
     "text": [
      "===> EXEC: 2\n",
      "Executing initial GA with 600 iterations\n"
     ]
    },
    {
     "name": "stderr",
     "output_type": "stream",
     "text": [
      "Temperature 0.008112586543828142, GA 500 iters:  98%|█████████▊| 167/170 [14:46<00:15,  5.31s/it]\n"
     ]
    },
    {
     "name": "stdout",
     "output_type": "stream",
     "text": [
      "===> EXEC: 3\n",
      "Executing initial GA with 200 iterations\n"
     ]
    },
    {
     "name": "stderr",
     "output_type": "stream",
     "text": [
      "Temperature 0.009329474525402367, GA 400 iters: 100%|██████████| 170/170 [11:52<00:00,  4.19s/it]\n"
     ]
    },
    {
     "name": "stdout",
     "output_type": "stream",
     "text": [
      "\n",
      "\n",
      "\n",
      "INSTANCE: 6\n",
      "===> EXEC: 1\n",
      "Executing initial GA with 500 iterations\n"
     ]
    },
    {
     "name": "stderr",
     "output_type": "stream",
     "text": [
      "Temperature 0.019463600231579305, GA 400 iters: 100%|██████████| 170/170 [15:51<00:00,  5.59s/it]\n"
     ]
    },
    {
     "name": "stdout",
     "output_type": "stream",
     "text": [
      "===> EXEC: 2\n",
      "Executing initial GA with 200 iterations\n"
     ]
    },
    {
     "name": "stderr",
     "output_type": "stream",
     "text": [
      "Temperature 0.01192099522690301, GA 400 iters: 100%|██████████| 170/170 [25:13<00:00,  8.90s/it]  \n"
     ]
    },
    {
     "name": "stdout",
     "output_type": "stream",
     "text": [
      "===> EXEC: 3\n",
      "Executing initial GA with 300 iterations\n"
     ]
    },
    {
     "name": "stderr",
     "output_type": "stream",
     "text": [
      "Temperature 0.008727963568087723, GA 500 iters:  81%|████████  | 137/170 [16:27<03:57,  7.21s/it]\n"
     ]
    },
    {
     "name": "stdout",
     "output_type": "stream",
     "text": [
      "\n",
      "\n",
      "\n",
      "INSTANCE: 7\n",
      "===> EXEC: 1\n",
      "Executing initial GA with 400 iterations\n"
     ]
    },
    {
     "name": "stderr",
     "output_type": "stream",
     "text": [
      "Temperature 0.009329474525402356, GA 500 iters: 100%|██████████| 170/170 [18:44<00:00,  6.61s/it]\n"
     ]
    },
    {
     "name": "stdout",
     "output_type": "stream",
     "text": [
      "===> EXEC: 2\n",
      "Executing initial GA with 600 iterations\n"
     ]
    },
    {
     "name": "stderr",
     "output_type": "stream",
     "text": [
      "Temperature 0.00841465149590229, GA 600 iters:  89%|████████▉ | 152/170 [17:10<02:02,  6.78s/it] \n"
     ]
    },
    {
     "name": "stdout",
     "output_type": "stream",
     "text": [
      "===> EXEC: 3\n",
      "Executing initial GA with 400 iterations\n"
     ]
    },
    {
     "name": "stderr",
     "output_type": "stream",
     "text": [
      "Temperature 0.00841465149590229, GA 500 iters:  89%|████████▉ | 152/170 [10:07:24<1:11:55, 239.77s/it]    \n"
     ]
    },
    {
     "name": "stdout",
     "output_type": "stream",
     "text": [
      "\n",
      "\n",
      "\n",
      "INSTANCE: 8\n",
      "===> EXEC: 1\n",
      "Executing initial GA with 400 iterations\n"
     ]
    },
    {
     "name": "stderr",
     "output_type": "stream",
     "text": [
      "Temperature 0.015833651328938287, GA 400 iters:  78%|███████▊  | 133/170 [12:14<03:24,  5.52s/it]\n"
     ]
    },
    {
     "name": "stdout",
     "output_type": "stream",
     "text": [
      "===> EXEC: 2\n",
      "Executing initial GA with 300 iterations\n"
     ]
    },
    {
     "name": "stderr",
     "output_type": "stream",
     "text": [
      "Temperature 0.011517869784447353, GA 300 iters:  96%|█████████▋| 164/170 [16:18<00:35,  5.97s/it]\n"
     ]
    },
    {
     "name": "stdout",
     "output_type": "stream",
     "text": [
      "===> EXEC: 3\n",
      "Executing initial GA with 500 iterations\n"
     ]
    },
    {
     "name": "stderr",
     "output_type": "stream",
     "text": [
      "Temperature 0.00811258654382814, GA 400 iters:  98%|█████████▊| 166/170 [15:58<00:23,  5.78s/it] \n"
     ]
    },
    {
     "name": "stdout",
     "output_type": "stream",
     "text": [
      "\n",
      "\n",
      "\n",
      "INSTANCE: 9\n",
      "===> EXEC: 1\n",
      "Executing initial GA with 500 iterations\n"
     ]
    },
    {
     "name": "stderr",
     "output_type": "stream",
     "text": [
      "Temperature 0.008727963568087723, GA 400 iters:  81%|████████  | 137/170 [11:32<02:46,  5.06s/it]\n"
     ]
    },
    {
     "name": "stdout",
     "output_type": "stream",
     "text": [
      "===> EXEC: 2\n",
      "Executing initial GA with 200 iterations\n"
     ]
    },
    {
     "name": "stderr",
     "output_type": "stream",
     "text": [
      "Temperature 0.008130098063673714, GA 300 iters:  86%|████████▌ | 146/170 [10:36<01:44,  4.36s/it]\n"
     ]
    },
    {
     "name": "stdout",
     "output_type": "stream",
     "text": [
      "===> EXEC: 3\n",
      "Executing initial GA with 400 iterations\n"
     ]
    },
    {
     "name": "stderr",
     "output_type": "stream",
     "text": [
      "Temperature 0.011920995226903023, GA 600 iters: 100%|██████████| 170/170 [16:08<00:00,  5.69s/it]\n"
     ]
    },
    {
     "name": "stdout",
     "output_type": "stream",
     "text": [
      "\n",
      "\n",
      "\n",
      "INSTANCE: 10\n",
      "===> EXEC: 1\n",
      "Executing initial GA with 300 iterations\n"
     ]
    },
    {
     "name": "stderr",
     "output_type": "stream",
     "text": [
      "Temperature 0.008112586543828145, GA 300 iters:  98%|█████████▊| 167/170 [2:38:47<02:51, 57.05s/it]     \n"
     ]
    },
    {
     "name": "stdout",
     "output_type": "stream",
     "text": [
      "===> EXEC: 2\n",
      "Executing initial GA with 400 iterations\n"
     ]
    },
    {
     "name": "stderr",
     "output_type": "stream",
     "text": [
      "Temperature 0.009329474525402356, GA 200 iters: 100%|██████████| 170/170 [17:33<00:00,  6.19s/it]\n"
     ]
    },
    {
     "name": "stdout",
     "output_type": "stream",
     "text": [
      "===> EXEC: 3\n",
      "Executing initial GA with 600 iterations\n"
     ]
    },
    {
     "name": "stderr",
     "output_type": "stream",
     "text": [
      "Temperature 0.012391553213951703, GA 300 iters:  79%|███████▉  | 134/170 [17:34<04:43,  7.87s/it]"
     ]
    },
    {
     "name": "stdout",
     "output_type": "stream",
     "text": [
      "\n",
      "\n",
      "\n"
     ]
    },
    {
     "name": "stderr",
     "output_type": "stream",
     "text": [
      "\n"
     ]
    }
   ],
   "source": [
    "execute_lsaga(20, 20)"
   ]
  },
  {
   "cell_type": "markdown",
   "metadata": {},
   "source": [
    "50 jobs 5 machines"
   ]
  },
  {
   "cell_type": "code",
   "execution_count": 145,
   "metadata": {},
   "outputs": [
    {
     "name": "stdout",
     "output_type": "stream",
     "text": [
      "INSTANCE: 10\n",
      "===> EXEC: 3\n",
      "Executing initial GA with 600 iterations\n"
     ]
    },
    {
     "name": "stderr",
     "output_type": "stream",
     "text": [
      "Temperature 0.15534794753239417, GA 600 iters:  35%|███▌      | 60/170 [04:12<07:43,  4.22s/it] "
     ]
    },
    {
     "name": "stdout",
     "output_type": "stream",
     "text": [
      "\n",
      "\n",
      "\n"
     ]
    },
    {
     "name": "stderr",
     "output_type": "stream",
     "text": [
      "\n"
     ]
    }
   ],
   "source": [
    "execute_lsaga(50, 5, nb_execs=3, start_inst=10, start_exec=3)"
   ]
  },
  {
   "cell_type": "markdown",
   "metadata": {},
   "source": [
    "50 jobs 10 machines"
   ]
  },
  {
   "cell_type": "code",
   "execution_count": 148,
   "metadata": {},
   "outputs": [
    {
     "name": "stdout",
     "output_type": "stream",
     "text": [
      "INSTANCE: 1\n",
      "===> EXEC: 1\n",
      "Executing initial GA with 500 iterations\n"
     ]
    },
    {
     "name": "stderr",
     "output_type": "stream",
     "text": [
      "Temperature 0.009013985048697928, GA 400 iters:  96%|█████████▌| 163/170 [21:36<00:55,  7.95s/it]\n"
     ]
    },
    {
     "name": "stdout",
     "output_type": "stream",
     "text": [
      "===> EXEC: 2\n",
      "Executing initial GA with 200 iterations\n"
     ]
    },
    {
     "name": "stderr",
     "output_type": "stream",
     "text": [
      "Temperature 0.015232382789931626, GA 400 iters: 100%|██████████| 170/170 [14:04<00:00,  4.97s/it]\n"
     ]
    },
    {
     "name": "stdout",
     "output_type": "stream",
     "text": [
      "===> EXEC: 3\n",
      "Executing initial GA with 600 iterations\n"
     ]
    },
    {
     "name": "stderr",
     "output_type": "stream",
     "text": [
      "Temperature 0.19850015518028144, GA 500 iters:  36%|███▋      | 62/170 [04:17<07:29,  4.16s/it]\n"
     ]
    },
    {
     "name": "stdout",
     "output_type": "stream",
     "text": [
      "\n",
      "\n",
      "\n",
      "\n",
      "INSTANCE: 2\n",
      "===> EXEC: 1\n",
      "Executing initial GA with 400 iterations\n"
     ]
    },
    {
     "name": "stderr",
     "output_type": "stream",
     "text": [
      "Temperature 0.009329474525402363, GA 500 iters: 100%|██████████| 170/170 [19:54<00:00,  7.03s/it]\n"
     ]
    },
    {
     "name": "stdout",
     "output_type": "stream",
     "text": [
      "===> EXEC: 2\n",
      "Executing initial GA with 200 iterations\n"
     ]
    },
    {
     "name": "stderr",
     "output_type": "stream",
     "text": [
      "Temperature 0.011542731818796012, GA 600 iters:  84%|████████▍ | 143/170 [12:16<02:18,  5.15s/it]\n"
     ]
    },
    {
     "name": "stdout",
     "output_type": "stream",
     "text": [
      "===> EXEC: 3\n",
      "Executing initial GA with 600 iterations\n"
     ]
    },
    {
     "name": "stderr",
     "output_type": "stream",
     "text": [
      "Temperature 0.01759294592104254, GA 300 iters:  76%|███████▋  | 130/170 [23:08<07:07, 10.68s/it] \n"
     ]
    },
    {
     "name": "stdout",
     "output_type": "stream",
     "text": [
      "\n",
      "\n",
      "\n",
      "\n",
      "INSTANCE: 3\n",
      "===> EXEC: 1\n",
      "Executing initial GA with 300 iterations\n"
     ]
    },
    {
     "name": "stderr",
     "output_type": "stream",
     "text": [
      "Temperature 0.008112586543828139, GA 400 iters:  98%|█████████▊| 167/170 [29:45<00:32, 10.69s/it]\n"
     ]
    },
    {
     "name": "stdout",
     "output_type": "stream",
     "text": [
      "===> EXEC: 2\n",
      "Executing initial GA with 200 iterations\n"
     ]
    },
    {
     "name": "stderr",
     "output_type": "stream",
     "text": [
      "Temperature 0.062291452021081634, GA 400 iters:  56%|█████▌    | 95/170 [11:32<09:06,  7.29s/it]\n"
     ]
    },
    {
     "name": "stdout",
     "output_type": "stream",
     "text": [
      "===> EXEC: 3\n",
      "Executing initial GA with 500 iterations\n"
     ]
    },
    {
     "name": "stderr",
     "output_type": "stream",
     "text": [
      "Temperature 0.017592945921042536, GA 400 iters:  76%|███████▌  | 129/170 [11:22<03:36,  5.29s/it]\n"
     ]
    },
    {
     "name": "stdout",
     "output_type": "stream",
     "text": [
      "\n",
      "\n",
      "\n",
      "\n",
      "INSTANCE: 4\n",
      "===> EXEC: 1\n",
      "Executing initial GA with 500 iterations\n"
     ]
    },
    {
     "name": "stderr",
     "output_type": "stream",
     "text": [
      "Temperature 0.009697737297875247, GA 300 iters:  78%|███████▊  | 132/170 [15:40<04:30,  7.12s/it]\n"
     ]
    },
    {
     "name": "stdout",
     "output_type": "stream",
     "text": [
      "===> EXEC: 2\n",
      "Executing initial GA with 400 iterations\n"
     ]
    },
    {
     "name": "stderr",
     "output_type": "stream",
     "text": [
      "Temperature 0.008709164298258871, GA 200 iters:  93%|█████████▎| 158/170 [14:55<01:08,  5.67s/it]\n"
     ]
    },
    {
     "name": "stdout",
     "output_type": "stream",
     "text": [
      "===> EXEC: 3\n",
      "Executing initial GA with 200 iterations\n"
     ]
    },
    {
     "name": "stderr",
     "output_type": "stream",
     "text": [
      "Temperature 0.015833651328938287, GA 500 iters:  79%|███████▉  | 134/170 [23:59<06:26, 10.75s/it] \n"
     ]
    },
    {
     "name": "stdout",
     "output_type": "stream",
     "text": [
      "\n",
      "\n",
      "\n",
      "\n",
      "INSTANCE: 5\n",
      "===> EXEC: 1\n",
      "Executing initial GA with 600 iterations\n"
     ]
    },
    {
     "name": "stderr",
     "output_type": "stream",
     "text": [
      "Temperature 0.008414651495902295, GA 600 iters:  89%|████████▉ | 152/170 [28:52<03:25, 11.40s/it]\n"
     ]
    },
    {
     "name": "stdout",
     "output_type": "stream",
     "text": [
      "===> EXEC: 2\n",
      "Executing initial GA with 500 iterations\n"
     ]
    },
    {
     "name": "stderr",
     "output_type": "stream",
     "text": [
      "Temperature 0.11721235663240438, GA 300 iters:  44%|████▍     | 75/170 [04:54<06:13,  3.93s/it]\n"
     ]
    },
    {
     "name": "stdout",
     "output_type": "stream",
     "text": [
      "===> EXEC: 3\n",
      "Executing initial GA with 500 iterations\n"
     ]
    },
    {
     "name": "stderr",
     "output_type": "stream",
     "text": [
      "Temperature 0.00811258654382814, GA 600 iters:  98%|█████████▊| 167/170 [22:36<00:24,  8.12s/it] \n"
     ]
    },
    {
     "name": "stdout",
     "output_type": "stream",
     "text": [
      "\n",
      "\n",
      "\n",
      "\n",
      "INSTANCE: 6\n",
      "===> EXEC: 1\n",
      "Executing initial GA with 400 iterations\n"
     ]
    },
    {
     "name": "stderr",
     "output_type": "stream",
     "text": [
      "Temperature 0.05606230681897347, GA 500 iters:  58%|█████▊    | 98/170 [5:53:53<4:19:59, 216.66s/it]   \n"
     ]
    },
    {
     "name": "stdout",
     "output_type": "stream",
     "text": [
      "===> EXEC: 2\n",
      "Executing initial GA with 500 iterations\n"
     ]
    },
    {
     "name": "stderr",
     "output_type": "stream",
     "text": [
      "Temperature 0.010037158103300884, GA 500 iters:  82%|████████▏ | 139/170 [19:32<04:21,  8.43s/it]\n"
     ]
    },
    {
     "name": "stdout",
     "output_type": "stream",
     "text": [
      "===> EXEC: 3\n",
      "Executing initial GA with 600 iterations\n"
     ]
    },
    {
     "name": "stderr",
     "output_type": "stream",
     "text": [
      "Temperature 0.009329474525402363, GA 500 iters: 100%|██████████| 170/170 [27:41<00:00,  9.77s/it]\n"
     ]
    },
    {
     "name": "stdout",
     "output_type": "stream",
     "text": [
      "\n",
      "\n",
      "\n",
      "\n",
      "INSTANCE: 7\n",
      "===> EXEC: 1\n",
      "Executing initial GA with 200 iterations\n"
     ]
    },
    {
     "name": "stderr",
     "output_type": "stream",
     "text": [
      "Temperature 0.028786288307422303, GA 500 iters:  65%|██████▍   | 110/170 [09:17<05:04,  5.07s/it]\n"
     ]
    },
    {
     "name": "stdout",
     "output_type": "stream",
     "text": [
      "===> EXEC: 2\n",
      "Executing initial GA with 300 iterations\n"
     ]
    },
    {
     "name": "stderr",
     "output_type": "stream",
     "text": [
      "Temperature 0.025907659476680073, GA 400 iters:  66%|██████▋   | 113/170 [17:19<08:44,  9.20s/it]\n"
     ]
    },
    {
     "name": "stdout",
     "output_type": "stream",
     "text": [
      "===> EXEC: 3\n",
      "Executing initial GA with 500 iterations\n"
     ]
    },
    {
     "name": "stderr",
     "output_type": "stream",
     "text": [
      "Temperature 0.011920995226903017, GA 600 iters: 100%|██████████| 170/170 [20:58<00:00,  7.40s/it]\n"
     ]
    },
    {
     "name": "stdout",
     "output_type": "stream",
     "text": [
      "\n",
      "\n",
      "\n",
      "\n",
      "INSTANCE: 8\n",
      "===> EXEC: 1\n",
      "Executing initial GA with 400 iterations\n"
     ]
    },
    {
     "name": "stderr",
     "output_type": "stream",
     "text": [
      "Temperature 0.02247987534355435, GA 600 iters:  76%|███████▌  | 129/170 [21:40<06:53, 10.08s/it] \n"
     ]
    },
    {
     "name": "stdout",
     "output_type": "stream",
     "text": [
      "===> EXEC: 2\n",
      "Executing initial GA with 500 iterations\n"
     ]
    },
    {
     "name": "stderr",
     "output_type": "stream",
     "text": [
      "Temperature 0.01824800363140075, GA 300 iters:  68%|██████▊   | 116/170 [16:54<07:52,  8.75s/it] \n"
     ]
    },
    {
     "name": "stdout",
     "output_type": "stream",
     "text": [
      "===> EXEC: 3\n",
      "Executing initial GA with 500 iterations\n"
     ]
    },
    {
     "name": "stderr",
     "output_type": "stream",
     "text": [
      "Temperature 0.008414651495902294, GA 400 iters:  89%|████████▉ | 152/170 [34:32:45<4:05:27, 818.20s/it]    \n"
     ]
    },
    {
     "name": "stdout",
     "output_type": "stream",
     "text": [
      "\n",
      "\n",
      "\n",
      "\n",
      "INSTANCE: 9\n",
      "===> EXEC: 1\n",
      "Executing initial GA with 200 iterations\n"
     ]
    },
    {
     "name": "stderr",
     "output_type": "stream",
     "text": [
      "Temperature 0.008414651495902294, GA 200 iters:  89%|████████▉ | 152/170 [20:16<02:24,  8.00s/it]\n"
     ]
    },
    {
     "name": "stdout",
     "output_type": "stream",
     "text": [
      "===> EXEC: 2\n",
      "Executing initial GA with 500 iterations\n"
     ]
    },
    {
     "name": "stderr",
     "output_type": "stream",
     "text": [
      "Temperature 0.03678247950392849, GA 500 iters:  64%|██████▍   | 109/170 [08:51<04:57,  4.88s/it]\n"
     ]
    },
    {
     "name": "stdout",
     "output_type": "stream",
     "text": [
      "===> EXEC: 3\n",
      "Executing initial GA with 600 iterations\n"
     ]
    },
    {
     "name": "stderr",
     "output_type": "stream",
     "text": [
      "Temperature 0.008112586543828142, GA 400 iters:  98%|█████████▊| 167/170 [19:30<00:21,  7.01s/it]\n"
     ]
    },
    {
     "name": "stdout",
     "output_type": "stream",
     "text": [
      "\n",
      "\n",
      "\n",
      "\n",
      "INSTANCE: 10\n",
      "===> EXEC: 1\n",
      "Executing initial GA with 600 iterations\n"
     ]
    },
    {
     "name": "stderr",
     "output_type": "stream",
     "text": [
      "Temperature 0.008709164298258874, GA 500 iters:  93%|█████████▎| 158/170 [17:01<01:17,  6.46s/it]\n"
     ]
    },
    {
     "name": "stdout",
     "output_type": "stream",
     "text": [
      "===> EXEC: 2\n",
      "Executing initial GA with 400 iterations\n"
     ]
    },
    {
     "name": "stderr",
     "output_type": "stream",
     "text": [
      "Temperature 0.02872428516120834, GA 400 iters:  77%|███████▋  | 131/170 [16:21<04:52,  7.49s/it] \n"
     ]
    },
    {
     "name": "stdout",
     "output_type": "stream",
     "text": [
      "===> EXEC: 3\n",
      "Executing initial GA with 300 iterations\n"
     ]
    },
    {
     "name": "stderr",
     "output_type": "stream",
     "text": [
      "Temperature 0.008130098063673714, GA 600 iters:  86%|████████▌ | 146/170 [22:48<03:44,  9.37s/it]"
     ]
    },
    {
     "name": "stdout",
     "output_type": "stream",
     "text": [
      "\n",
      "\n",
      "\n",
      "\n"
     ]
    },
    {
     "name": "stderr",
     "output_type": "stream",
     "text": [
      "\n"
     ]
    }
   ],
   "source": [
    "execute_lsaga(50, 10)"
   ]
  },
  {
   "cell_type": "markdown",
   "metadata": {},
   "source": [
    "50 jobs 20 machines"
   ]
  },
  {
   "cell_type": "code",
   "execution_count": 18,
   "metadata": {},
   "outputs": [
    {
     "name": "stdout",
     "output_type": "stream",
     "text": [
      "INSTANCE: 6\n",
      "===> EXEC: 1\n",
      "Executing initial GA with 500 iterations\n"
     ]
    },
    {
     "name": "stderr",
     "output_type": "stream",
     "text": [
      "Temperature 0.008414651495902294, GA 400 iters:  89%|████████▉ | 152/170 [42:25<05:01, 16.75s/it]\n"
     ]
    },
    {
     "name": "stdout",
     "output_type": "stream",
     "text": [
      "\n",
      "\n",
      "\n",
      "\n",
      "INSTANCE: 7\n",
      "===> EXEC: 1\n",
      "Executing initial GA with 400 iterations\n"
     ]
    },
    {
     "name": "stderr",
     "output_type": "stream",
     "text": [
      "Temperature 0.008414651495902294, GA 500 iters:  89%|████████▉ | 152/170 [25:08<02:58,  9.93s/it]\n"
     ]
    },
    {
     "name": "stdout",
     "output_type": "stream",
     "text": [
      "\n",
      "\n",
      "\n",
      "\n",
      "INSTANCE: 8\n",
      "===> EXEC: 1\n",
      "Executing initial GA with 500 iterations\n"
     ]
    },
    {
     "name": "stderr",
     "output_type": "stream",
     "text": [
      "Temperature 0.00841465149590229, GA 500 iters:  89%|████████▉ | 152/170 [37:56<04:29, 14.98s/it]    \n"
     ]
    },
    {
     "name": "stdout",
     "output_type": "stream",
     "text": [
      "\n",
      "\n",
      "\n",
      "\n",
      "INSTANCE: 9\n",
      "===> EXEC: 1\n",
      "Executing initial GA with 500 iterations\n"
     ]
    },
    {
     "name": "stderr",
     "output_type": "stream",
     "text": [
      "Temperature 0.009329474525402358, GA 600 iters: 100%|██████████| 170/170 [29:47<00:00, 10.51s/it]\n"
     ]
    },
    {
     "name": "stdout",
     "output_type": "stream",
     "text": [
      "\n",
      "\n",
      "\n",
      "\n",
      "INSTANCE: 10\n",
      "===> EXEC: 1\n",
      "Executing initial GA with 400 iterations\n"
     ]
    },
    {
     "name": "stderr",
     "output_type": "stream",
     "text": [
      "Temperature 0.008709164298258874, GA 400 iters:  93%|█████████▎| 158/170 [37:06<02:49, 14.09s/it] "
     ]
    },
    {
     "name": "stdout",
     "output_type": "stream",
     "text": [
      "\n",
      "\n",
      "\n",
      "\n"
     ]
    },
    {
     "name": "stderr",
     "output_type": "stream",
     "text": [
      "\n"
     ]
    }
   ],
   "source": [
    "execute_lsaga(50, 20, nb_execs=1, start_inst=6, start_exec=1)"
   ]
  },
  {
   "cell_type": "markdown",
   "metadata": {},
   "source": [
    "100 jobs 5 machines"
   ]
  },
  {
   "cell_type": "code",
   "execution_count": 8,
   "metadata": {},
   "outputs": [
    {
     "name": "stdout",
     "output_type": "stream",
     "text": [
      "INSTANCE: 1\n",
      "===> EXEC: 1\n",
      "Executing initial GA with 200 iterations\n"
     ]
    },
    {
     "name": "stderr",
     "output_type": "stream",
     "text": [
      "Temperature 0.008709164298258874, GA 500 iters:  93%|█████████▎| 158/170 [17:14<01:18,  6.55s/it]\n"
     ]
    },
    {
     "name": "stdout",
     "output_type": "stream",
     "text": [
      "===> EXEC: 2\n",
      "Executing initial GA with 300 iterations\n"
     ]
    },
    {
     "name": "stderr",
     "output_type": "stream",
     "text": [
      "Temperature 0.01425028619604446, GA 500 iters:  79%|███████▉  | 135/170 [13:36<03:31,  6.05s/it] \n"
     ]
    },
    {
     "name": "stdout",
     "output_type": "stream",
     "text": [
      "===> EXEC: 3\n",
      "Executing initial GA with 500 iterations\n"
     ]
    },
    {
     "name": "stderr",
     "output_type": "stream",
     "text": [
      "Temperature 0.008414651495902295, GA 200 iters:  89%|████████▉ | 152/170 [14:58<01:46,  5.91s/it]\n"
     ]
    },
    {
     "name": "stdout",
     "output_type": "stream",
     "text": [
      "\n",
      "\n",
      "\n",
      "\n",
      "INSTANCE: 2\n",
      "===> EXEC: 1\n",
      "Executing initial GA with 600 iterations\n"
     ]
    },
    {
     "name": "stderr",
     "output_type": "stream",
     "text": [
      "Temperature 0.014749046212906016, GA 300 iters:  84%|████████▎ | 142/170 [1:05:39<12:56, 27.74s/it]   \n"
     ]
    },
    {
     "name": "stdout",
     "output_type": "stream",
     "text": [
      "===> EXEC: 2\n",
      "Executing initial GA with 300 iterations\n"
     ]
    },
    {
     "name": "stderr",
     "output_type": "stream",
     "text": [
      "Temperature 0.2058911320946491, GA 200 iters:  26%|██▋       | 45/170 [01:38<04:32,  2.18s/it] \n"
     ]
    },
    {
     "name": "stdout",
     "output_type": "stream",
     "text": [
      "===> EXEC: 3\n",
      "Executing initial GA with 300 iterations\n"
     ]
    },
    {
     "name": "stderr",
     "output_type": "stream",
     "text": [
      "Temperature 0.008709164298258871, GA 500 iters:  93%|█████████▎| 158/170 [16:13<01:13,  6.16s/it]\n"
     ]
    },
    {
     "name": "stdout",
     "output_type": "stream",
     "text": [
      "\n",
      "\n",
      "\n",
      "\n",
      "INSTANCE: 3\n",
      "===> EXEC: 1\n",
      "Executing initial GA with 200 iterations\n"
     ]
    },
    {
     "name": "stderr",
     "output_type": "stream",
     "text": [
      "Temperature 0.008130098063673714, GA 300 iters:  86%|████████▌ | 146/170 [16:20<02:41,  6.72s/it]\n"
     ]
    },
    {
     "name": "stdout",
     "output_type": "stream",
     "text": [
      "===> EXEC: 2\n",
      "Executing initial GA with 400 iterations\n"
     ]
    },
    {
     "name": "stderr",
     "output_type": "stream",
     "text": [
      "Temperature 0.012825257576440013, GA 200 iters:  81%|████████  | 138/170 [11:33<02:40,  5.02s/it]\n"
     ]
    },
    {
     "name": "stdout",
     "output_type": "stream",
     "text": [
      "===> EXEC: 3\n",
      "Executing initial GA with 400 iterations\n"
     ]
    },
    {
     "name": "stderr",
     "output_type": "stream",
     "text": [
      "Temperature 0.02171968632227474, GA 300 iters:  72%|███████▏  | 123/170 [11:19<04:19,  5.52s/it] \n"
     ]
    },
    {
     "name": "stdout",
     "output_type": "stream",
     "text": [
      "\n",
      "\n",
      "\n",
      "\n",
      "INSTANCE: 4\n",
      "===> EXEC: 1\n",
      "Executing initial GA with 600 iterations\n"
     ]
    },
    {
     "name": "stderr",
     "output_type": "stream",
     "text": [
      "Temperature 0.010752054689208486, GA 600 iters:  89%|████████▉ | 151/170 [10:08<01:16,  4.03s/it]\n"
     ]
    },
    {
     "name": "stdout",
     "output_type": "stream",
     "text": [
      "===> EXEC: 2\n",
      "Executing initial GA with 400 iterations\n"
     ]
    },
    {
     "name": "stderr",
     "output_type": "stream",
     "text": [
      "Temperature 0.01759294592104254, GA 400 iters:  76%|███████▌  | 129/170 [09:51<03:07,  4.58s/it] \n"
     ]
    },
    {
     "name": "stdout",
     "output_type": "stream",
     "text": [
      "===> EXEC: 3\n",
      "Executing initial GA with 500 iterations\n"
     ]
    },
    {
     "name": "stderr",
     "output_type": "stream",
     "text": [
      "Temperature 0.008130098063673714, GA 500 iters:  86%|████████▌ | 146/170 [16:03<02:38,  6.60s/it]\n"
     ]
    },
    {
     "name": "stdout",
     "output_type": "stream",
     "text": [
      "\n",
      "\n",
      "\n",
      "\n",
      "INSTANCE: 5\n",
      "===> EXEC: 1\n",
      "Executing initial GA with 300 iterations\n"
     ]
    },
    {
     "name": "stderr",
     "output_type": "stream",
     "text": [
      "Temperature 0.030836591692118446, GA 300 iters:  72%|███████▏  | 122/170 [19:20<07:36,  9.51s/it] \n"
     ]
    },
    {
     "name": "stdout",
     "output_type": "stream",
     "text": [
      "===> EXEC: 2\n",
      "Executing initial GA with 200 iterations\n"
     ]
    },
    {
     "name": "stderr",
     "output_type": "stream",
     "text": [
      "Temperature 0.011946727432453876, GA 400 iters:  88%|████████▊ | 149/170 [17:36<02:28,  7.09s/it]\n"
     ]
    },
    {
     "name": "stdout",
     "output_type": "stream",
     "text": [
      "===> EXEC: 3\n",
      "Executing initial GA with 400 iterations\n"
     ]
    },
    {
     "name": "stderr",
     "output_type": "stream",
     "text": [
      "Temperature 0.011972515182562033, GA 400 iters:  74%|███████▍  | 126/170 [10:13<03:34,  4.87s/it]\n"
     ]
    },
    {
     "name": "stdout",
     "output_type": "stream",
     "text": [
      "\n",
      "\n",
      "\n",
      "\n",
      "INSTANCE: 6\n",
      "===> EXEC: 1\n",
      "Executing initial GA with 200 iterations\n"
     ]
    },
    {
     "name": "stderr",
     "output_type": "stream",
     "text": [
      "Temperature 0.00841465149590229, GA 400 iters:  89%|████████▉ | 152/170 [14:14<01:41,  5.62s/it] \n"
     ]
    },
    {
     "name": "stdout",
     "output_type": "stream",
     "text": [
      "===> EXEC: 2\n",
      "Executing initial GA with 400 iterations\n"
     ]
    },
    {
     "name": "stderr",
     "output_type": "stream",
     "text": [
      "Temperature 0.008709164298258871, GA 300 iters:  93%|█████████▎| 158/170 [20:53<01:35,  7.94s/it]\n"
     ]
    },
    {
     "name": "stdout",
     "output_type": "stream",
     "text": [
      "===> EXEC: 3\n",
      "Executing initial GA with 500 iterations\n"
     ]
    },
    {
     "name": "stderr",
     "output_type": "stream",
     "text": [
      "Temperature 0.008130098063673714, GA 500 iters:  86%|████████▌ | 146/170 [21:34<03:32,  8.86s/it]\n"
     ]
    },
    {
     "name": "stdout",
     "output_type": "stream",
     "text": [
      "\n",
      "\n",
      "\n",
      "\n",
      "INSTANCE: 7\n",
      "===> EXEC: 1\n",
      "Executing initial GA with 500 iterations\n"
     ]
    },
    {
     "name": "stderr",
     "output_type": "stream",
     "text": [
      "Temperature 0.008709164298258871, GA 300 iters:  92%|█████████▏| 157/170 [14:04<01:09,  5.38s/it]\n"
     ]
    },
    {
     "name": "stdout",
     "output_type": "stream",
     "text": [
      "===> EXEC: 2\n",
      "Executing initial GA with 300 iterations\n"
     ]
    },
    {
     "name": "stderr",
     "output_type": "stream",
     "text": [
      "Temperature 0.008414651495902294, GA 300 iters:  89%|████████▉ | 152/170 [19:24<02:17,  7.66s/it]\n"
     ]
    },
    {
     "name": "stdout",
     "output_type": "stream",
     "text": [
      "===> EXEC: 3\n",
      "Executing initial GA with 600 iterations\n"
     ]
    },
    {
     "name": "stderr",
     "output_type": "stream",
     "text": [
      "Temperature 0.013302794647291147, GA 200 iters:  73%|███████▎  | 124/170 [10:45<03:59,  5.20s/it]\n"
     ]
    },
    {
     "name": "stdout",
     "output_type": "stream",
     "text": [
      "\n",
      "\n",
      "\n",
      "\n",
      "INSTANCE: 8\n",
      "===> EXEC: 1\n",
      "Executing initial GA with 600 iterations\n"
     ]
    },
    {
     "name": "stderr",
     "output_type": "stream",
     "text": [
      "Temperature 0.009329474525402356, GA 600 iters: 100%|██████████| 170/170 [14:35<00:00,  5.15s/it]\n"
     ]
    },
    {
     "name": "stdout",
     "output_type": "stream",
     "text": [
      "===> EXEC: 2\n",
      "Executing initial GA with 200 iterations\n"
     ]
    },
    {
     "name": "stderr",
     "output_type": "stream",
     "text": [
      "Temperature 0.010037158103300881, GA 300 iters:  82%|████████▏ | 140/170 [20:15<04:20,  8.68s/it]\n"
     ]
    },
    {
     "name": "stdout",
     "output_type": "stream",
     "text": [
      "===> EXEC: 3\n",
      "Executing initial GA with 400 iterations\n"
     ]
    },
    {
     "name": "stderr",
     "output_type": "stream",
     "text": [
      "Temperature 0.03815204244769462, GA 300 iters:  55%|█████▌    | 94/170 [15:49<12:47, 10.10s/it] \n"
     ]
    },
    {
     "name": "stdout",
     "output_type": "stream",
     "text": [
      "\n",
      "\n",
      "\n",
      "\n",
      "INSTANCE: 9\n",
      "===> EXEC: 1\n",
      "Executing initial GA with 600 iterations\n"
     ]
    },
    {
     "name": "stderr",
     "output_type": "stream",
     "text": [
      "Temperature 0.03940231160659579, GA 300 iters:  72%|███████▏  | 122/170 [14:40<05:46,  7.22s/it] \n"
     ]
    },
    {
     "name": "stdout",
     "output_type": "stream",
     "text": [
      "===> EXEC: 2\n",
      "Executing initial GA with 400 iterations\n"
     ]
    },
    {
     "name": "stderr",
     "output_type": "stream",
     "text": [
      "Temperature 0.008130098063673714, GA 500 iters:  86%|████████▌ | 146/170 [14:47<02:25,  6.08s/it]\n"
     ]
    },
    {
     "name": "stdout",
     "output_type": "stream",
     "text": [
      "===> EXEC: 3\n",
      "Executing initial GA with 600 iterations\n"
     ]
    },
    {
     "name": "stderr",
     "output_type": "stream",
     "text": [
      "Temperature 0.025031555049932444, GA 300 iters:  62%|██████▏   | 106/170 [14:07<08:31,  8.00s/it]\n"
     ]
    },
    {
     "name": "stdout",
     "output_type": "stream",
     "text": [
      "\n",
      "\n",
      "\n",
      "\n",
      "INSTANCE: 10\n",
      "===> EXEC: 1\n",
      "Executing initial GA with 300 iterations\n"
     ]
    },
    {
     "name": "stderr",
     "output_type": "stream",
     "text": [
      "Temperature 0.0132741415916154, GA 400 iters:  85%|████████▍ | 144/170 [11:39<02:06,  4.86s/it]  \n"
     ]
    },
    {
     "name": "stdout",
     "output_type": "stream",
     "text": [
      "===> EXEC: 2\n",
      "Executing initial GA with 300 iterations\n"
     ]
    },
    {
     "name": "stderr",
     "output_type": "stream",
     "text": [
      "Temperature 0.01003715810330088, GA 500 iters:  82%|████████▏ | 139/170 [15:02<03:21,  6.49s/it] \n"
     ]
    },
    {
     "name": "stdout",
     "output_type": "stream",
     "text": [
      "===> EXEC: 3\n",
      "Executing initial GA with 200 iterations\n"
     ]
    },
    {
     "name": "stderr",
     "output_type": "stream",
     "text": [
      "Temperature 0.03553862754002753, GA 500 iters:  61%|██████    | 103/170 [07:53<05:08,  4.60s/it] "
     ]
    },
    {
     "name": "stdout",
     "output_type": "stream",
     "text": [
      "\n",
      "\n",
      "\n",
      "\n"
     ]
    },
    {
     "name": "stderr",
     "output_type": "stream",
     "text": [
      "\n"
     ]
    }
   ],
   "source": [
    "execute_lsaga(100, 5)"
   ]
  },
  {
   "cell_type": "markdown",
   "metadata": {},
   "source": [
    "100 jobs 10 machines"
   ]
  },
  {
   "cell_type": "code",
   "execution_count": 10,
   "metadata": {},
   "outputs": [
    {
     "name": "stdout",
     "output_type": "stream",
     "text": [
      "INSTANCE: 1\n",
      "===> EXEC: 1\n",
      "Executing initial GA with 200 iterations\n"
     ]
    },
    {
     "name": "stderr",
     "output_type": "stream",
     "text": [
      "Temperature 0.010388458636916408, GA 200 iters:  85%|████████▌ | 145/170 [28:53<04:58, 11.96s/it]\n"
     ]
    },
    {
     "name": "stdout",
     "output_type": "stream",
     "text": [
      "\n",
      "\n",
      "\n",
      "\n",
      "INSTANCE: 2\n",
      "===> EXEC: 1\n",
      "Executing initial GA with 200 iterations\n"
     ]
    },
    {
     "name": "stderr",
     "output_type": "stream",
     "text": [
      "Temperature 0.010366082806002618, GA 200 iters:  98%|█████████▊| 166/170 [33:03<00:47, 11.95s/it]\n"
     ]
    },
    {
     "name": "stdout",
     "output_type": "stream",
     "text": [
      "\n",
      "\n",
      "\n",
      "\n",
      "INSTANCE: 3\n",
      "===> EXEC: 1\n",
      "Executing initial GA with 500 iterations\n"
     ]
    },
    {
     "name": "stderr",
     "output_type": "stream",
     "text": [
      "Temperature 0.008112586543828135, GA 500 iters:  98%|█████████▊| 167/170 [33:36<00:36, 12.07s/it]\n"
     ]
    },
    {
     "name": "stdout",
     "output_type": "stream",
     "text": [
      "\n",
      "\n",
      "\n",
      "\n",
      "INSTANCE: 4\n",
      "===> EXEC: 1\n",
      "Executing initial GA with 500 iterations\n"
     ]
    },
    {
     "name": "stderr",
     "output_type": "stream",
     "text": [
      "Temperature 0.011542731818796014, GA 400 iters:  83%|████████▎ | 141/170 [25:14<05:11, 10.74s/it]\n"
     ]
    },
    {
     "name": "stdout",
     "output_type": "stream",
     "text": [
      "\n",
      "\n",
      "\n",
      "\n",
      "INSTANCE: 5\n",
      "===> EXEC: 1\n",
      "Executing initial GA with 600 iterations\n"
     ]
    },
    {
     "name": "stderr",
     "output_type": "stream",
     "text": [
      "Temperature 0.011152397892556534, GA 500 iters:  80%|████████  | 136/170 [26:56<06:44, 11.88s/it]\n"
     ]
    },
    {
     "name": "stdout",
     "output_type": "stream",
     "text": [
      "\n",
      "\n",
      "\n",
      "\n",
      "INSTANCE: 6\n",
      "===> EXEC: 1\n",
      "Executing initial GA with 500 iterations\n"
     ]
    },
    {
     "name": "stderr",
     "output_type": "stream",
     "text": [
      "Temperature 0.010037158103300881, GA 300 iters:  82%|████████▏ | 140/170 [27:32<05:54, 11.80s/it]\n"
     ]
    },
    {
     "name": "stdout",
     "output_type": "stream",
     "text": [
      "\n",
      "\n",
      "\n",
      "\n",
      "INSTANCE: 7\n",
      "===> EXEC: 1\n",
      "Executing initial GA with 300 iterations\n"
     ]
    },
    {
     "name": "stderr",
     "output_type": "stream",
     "text": [
      "Temperature 0.00841465149590229, GA 500 iters:  89%|████████▉ | 152/170 [26:48<03:10, 10.59s/it] \n"
     ]
    },
    {
     "name": "stdout",
     "output_type": "stream",
     "text": [
      "\n",
      "\n",
      "\n",
      "\n",
      "INSTANCE: 8\n",
      "===> EXEC: 1\n",
      "Executing initial GA with 200 iterations\n"
     ]
    },
    {
     "name": "stderr",
     "output_type": "stream",
     "text": [
      "Temperature 0.02023188780919892, GA 300 iters:  78%|███████▊  | 133/170 [57:43<16:03, 26.04s/it]   \n"
     ]
    },
    {
     "name": "stdout",
     "output_type": "stream",
     "text": [
      "\n",
      "\n",
      "\n",
      "\n",
      "INSTANCE: 9\n",
      "===> EXEC: 1\n",
      "Executing initial GA with 300 iterations\n"
     ]
    },
    {
     "name": "stderr",
     "output_type": "stream",
     "text": [
      "Temperature 0.02590765947668008, GA 200 iters:  66%|██████▌   | 112/170 [22:22<11:35, 11.98s/it] \n"
     ]
    },
    {
     "name": "stdout",
     "output_type": "stream",
     "text": [
      "\n",
      "\n",
      "\n",
      "\n",
      "INSTANCE: 10\n",
      "===> EXEC: 1\n",
      "Executing initial GA with 300 iterations\n"
     ]
    },
    {
     "name": "stderr",
     "output_type": "stream",
     "text": [
      "Temperature 0.03191587240134258, GA 400 iters:  75%|███████▍  | 127/170 [24:42<08:22, 11.68s/it] "
     ]
    },
    {
     "name": "stdout",
     "output_type": "stream",
     "text": [
      "\n",
      "\n",
      "\n",
      "\n"
     ]
    },
    {
     "name": "stderr",
     "output_type": "stream",
     "text": [
      "\n"
     ]
    }
   ],
   "source": [
    "execute_lsaga(100, 10, nb_execs=1)"
   ]
  },
  {
   "cell_type": "code",
   "execution_count": 25,
   "metadata": {},
   "outputs": [
    {
     "name": "stdout",
     "output_type": "stream",
     "text": [
      "INSTANCE: 4\n",
      "===> EXEC: 1\n",
      "Executing initial GA with 200 iterations\n"
     ]
    },
    {
     "name": "stderr",
     "output_type": "stream",
     "text": [
      "Temperature 0.011920995226903009, GA 200 iters: 100%|██████████| 170/170 [35:26<00:00, 12.51s/it]\n"
     ]
    },
    {
     "name": "stdout",
     "output_type": "stream",
     "text": [
      "\n",
      "\n",
      "\n",
      "\n",
      "INSTANCE: 5\n",
      "===> EXEC: 1\n",
      "Executing initial GA with 200 iterations\n"
     ]
    },
    {
     "name": "stderr",
     "output_type": "stream",
     "text": [
      "Temperature 0.008709164298258871, GA 200 iters:  93%|█████████▎| 158/170 [29:42<02:15, 11.28s/it]\n"
     ]
    },
    {
     "name": "stdout",
     "output_type": "stream",
     "text": [
      "\n",
      "\n",
      "\n",
      "\n",
      "INSTANCE: 6\n",
      "===> EXEC: 1\n",
      "Executing initial GA with 200 iterations\n"
     ]
    },
    {
     "name": "stderr",
     "output_type": "stream",
     "text": [
      "Temperature 0.008130098063673714, GA 200 iters:  86%|████████▌ | 146/170 [26:32<04:21, 10.91s/it]\n"
     ]
    },
    {
     "name": "stdout",
     "output_type": "stream",
     "text": [
      "\n",
      "\n",
      "\n",
      "\n",
      "INSTANCE: 7\n",
      "===> EXEC: 1\n",
      "Executing initial GA with 200 iterations\n"
     ]
    },
    {
     "name": "stderr",
     "output_type": "stream",
     "text": [
      "Temperature 0.008727963568087723, GA 200 iters:  81%|████████  | 137/170 [38:03<09:10, 16.67s/it]\n"
     ]
    },
    {
     "name": "stdout",
     "output_type": "stream",
     "text": [
      "\n",
      "\n",
      "\n",
      "\n",
      "INSTANCE: 8\n",
      "===> EXEC: 1\n",
      "Executing initial GA with 200 iterations\n"
     ]
    },
    {
     "name": "stderr",
     "output_type": "stream",
     "text": [
      "Temperature 0.014250286196044461, GA 200 iters:  80%|████████  | 136/170 [30:54<07:43, 13.64s/it]  \n"
     ]
    },
    {
     "name": "stdout",
     "output_type": "stream",
     "text": [
      "\n",
      "\n",
      "\n",
      "\n",
      "INSTANCE: 9\n",
      "===> EXEC: 1\n",
      "Executing initial GA with 200 iterations\n"
     ]
    },
    {
     "name": "stderr",
     "output_type": "stream",
     "text": [
      "Temperature 0.008130098063673714, GA 200 iters:  86%|████████▌ | 146/170 [33:26<05:29, 13.74s/it]\n"
     ]
    },
    {
     "name": "stdout",
     "output_type": "stream",
     "text": [
      "\n",
      "\n",
      "\n",
      "\n",
      "INSTANCE: 10\n",
      "===> EXEC: 1\n",
      "Executing initial GA with 200 iterations\n"
     ]
    },
    {
     "name": "stderr",
     "output_type": "stream",
     "text": [
      "Temperature 0.011920995226903014, GA 200 iters: 100%|██████████| 170/170 [31:31<00:00, 11.13s/it]"
     ]
    },
    {
     "name": "stdout",
     "output_type": "stream",
     "text": [
      "\n",
      "\n",
      "\n",
      "\n"
     ]
    },
    {
     "name": "stderr",
     "output_type": "stream",
     "text": [
      "\n"
     ]
    }
   ],
   "source": [
    "execute_lsaga(100, 20, nb_execs=1, start_inst=4, num_iterations_mms=(200,200,1))"
   ]
  },
  {
   "cell_type": "markdown",
   "metadata": {},
   "source": [
    "200 jobs 10 machines"
   ]
  },
  {
   "cell_type": "code",
   "execution_count": 11,
   "metadata": {},
   "outputs": [
    {
     "name": "stdout",
     "output_type": "stream",
     "text": [
      "INSTANCE: 1\n",
      "===> EXEC: 1\n",
      "Executing initial GA with 500 iterations\n"
     ]
    },
    {
     "name": "stderr",
     "output_type": "stream",
     "text": [
      "Temperature 0.009349612773224771, GA 400 iters:  88%|████████▊ | 149/170 [1:01:40<08:41, 24.83s/it]\n"
     ]
    },
    {
     "name": "stdout",
     "output_type": "stream",
     "text": [
      "\n",
      "\n",
      "\n",
      "\n",
      "INSTANCE: 2\n",
      "===> EXEC: 1\n",
      "Executing initial GA with 500 iterations\n"
     ]
    },
    {
     "name": "stderr",
     "output_type": "stream",
     "text": [
      "Temperature 0.042299851429517754, GA 500 iters:  66%|██████▋   | 113/170 [33:48<17:03, 17.95s/it]\n"
     ]
    },
    {
     "name": "stdout",
     "output_type": "stream",
     "text": [
      "\n",
      "\n",
      "\n",
      "\n",
      "INSTANCE: 3\n",
      "===> EXEC: 1\n",
      "Executing initial GA with 500 iterations\n"
     ]
    },
    {
     "name": "stderr",
     "output_type": "stream",
     "text": [
      "Temperature 0.008727963568087723, GA 400 iters:  81%|████████  | 137/170 [43:20<10:26, 18.98s/it]\n"
     ]
    },
    {
     "name": "stdout",
     "output_type": "stream",
     "text": [
      "\n",
      "\n",
      "\n",
      "\n",
      "INSTANCE: 4\n",
      "===> EXEC: 1\n",
      "Executing initial GA with 300 iterations\n"
     ]
    },
    {
     "name": "stderr",
     "output_type": "stream",
     "text": [
      "Temperature 0.008709164298258874, GA 400 iters:  93%|█████████▎| 158/170 [42:15<03:12, 16.05s/it]\n"
     ]
    },
    {
     "name": "stdout",
     "output_type": "stream",
     "text": [
      "\n",
      "\n",
      "\n",
      "\n",
      "INSTANCE: 5\n",
      "===> EXEC: 1\n",
      "Executing initial GA with 600 iterations\n"
     ]
    },
    {
     "name": "stderr",
     "output_type": "stream",
     "text": [
      "Temperature 0.04541046852336851, GA 200 iters:  60%|██████    | 102/170 [37:56<25:17, 22.32s/it]  \n"
     ]
    },
    {
     "name": "stdout",
     "output_type": "stream",
     "text": [
      "\n",
      "\n",
      "\n",
      "\n",
      "INSTANCE: 6\n",
      "===> EXEC: 1\n",
      "Executing initial GA with 400 iterations\n"
     ]
    },
    {
     "name": "stderr",
     "output_type": "stream",
     "text": [
      "Temperature 0.038069866286565994, GA 600 iters:  67%|██████▋   | 114/170 [43:00<21:07, 22.63s/it]  \n"
     ]
    },
    {
     "name": "stdout",
     "output_type": "stream",
     "text": [
      "\n",
      "\n",
      "\n",
      "\n",
      "INSTANCE: 7\n",
      "===> EXEC: 1\n",
      "Executing initial GA with 300 iterations\n"
     ]
    },
    {
     "name": "stderr",
     "output_type": "stream",
     "text": [
      "Temperature 0.008709164298258874, GA 300 iters:  93%|█████████▎| 158/170 [51:45<03:55, 19.65s/it]\n"
     ]
    },
    {
     "name": "stdout",
     "output_type": "stream",
     "text": [
      "\n",
      "\n",
      "\n",
      "\n",
      "INSTANCE: 8\n",
      "===> EXEC: 1\n",
      "Executing initial GA with 400 iterations\n"
     ]
    },
    {
     "name": "stderr",
     "output_type": "stream",
     "text": [
      "Temperature 0.008130098063673714, GA 300 iters:  86%|████████▌ | 146/170 [50:53<08:21, 20.91s/it]\n"
     ]
    },
    {
     "name": "stdout",
     "output_type": "stream",
     "text": [
      "\n",
      "\n",
      "\n",
      "\n",
      "INSTANCE: 9\n",
      "===> EXEC: 1\n",
      "Executing initial GA with 200 iterations\n"
     ]
    },
    {
     "name": "stderr",
     "output_type": "stream",
     "text": [
      "Temperature 0.012391553213951703, GA 500 iters:  78%|███████▊  | 133/170 [46:44<13:00, 21.09s/it]\n"
     ]
    },
    {
     "name": "stdout",
     "output_type": "stream",
     "text": [
      "\n",
      "\n",
      "\n",
      "\n",
      "INSTANCE: 10\n",
      "===> EXEC: 1\n",
      "Executing initial GA with 600 iterations\n"
     ]
    },
    {
     "name": "stderr",
     "output_type": "stream",
     "text": [
      "Temperature 0.01373873654732195, GA 300 iters:  89%|████████▉ | 151/170 [55:19<06:57, 21.98s/it]    "
     ]
    },
    {
     "name": "stdout",
     "output_type": "stream",
     "text": [
      "\n",
      "\n",
      "\n",
      "\n"
     ]
    },
    {
     "name": "stderr",
     "output_type": "stream",
     "text": [
      "\n"
     ]
    }
   ],
   "source": [
    "execute_lsaga(200, 10, nb_execs=1)"
   ]
  },
  {
   "cell_type": "markdown",
   "metadata": {},
   "source": [
    "200 jobs 20 machines"
   ]
  },
  {
   "cell_type": "code",
   "execution_count": 17,
   "metadata": {},
   "outputs": [
    {
     "name": "stdout",
     "output_type": "stream",
     "text": [
      "INSTANCE: 4\n",
      "===> EXEC: 1\n",
      "Executing initial GA with 200 iterations\n"
     ]
    },
    {
     "name": "stderr",
     "output_type": "stream",
     "text": [
      "Temperature 0.012825257576440013, GA 200 iters:  82%|████████▏ | 139/170 [59:09<13:11, 25.54s/it]   \n"
     ]
    },
    {
     "name": "stdout",
     "output_type": "stream",
     "text": [
      "\n",
      "\n",
      "\n",
      "\n",
      "INSTANCE: 5\n",
      "===> EXEC: 1\n",
      "Executing initial GA with 200 iterations\n"
     ]
    },
    {
     "name": "stderr",
     "output_type": "stream",
     "text": [
      "Temperature 0.008727963568087723, GA 200 iters:  81%|████████  | 137/170 [1:01:39<14:51, 27.01s/it] \n"
     ]
    },
    {
     "name": "stdout",
     "output_type": "stream",
     "text": [
      "\n",
      "\n",
      "\n",
      "\n",
      "INSTANCE: 6\n",
      "===> EXEC: 1\n",
      "Executing initial GA with 200 iterations\n"
     ]
    },
    {
     "name": "stderr",
     "output_type": "stream",
     "text": [
      "Temperature 0.008414651495902294, GA 200 iters:  89%|████████▉ | 152/170 [1:27:07<10:18, 34.39s/it]  \n"
     ]
    },
    {
     "name": "stdout",
     "output_type": "stream",
     "text": [
      "\n",
      "\n",
      "\n",
      "\n",
      "INSTANCE: 7\n",
      "===> EXEC: 1\n",
      "Executing initial GA with 200 iterations\n"
     ]
    },
    {
     "name": "stderr",
     "output_type": "stream",
     "text": [
      "Temperature 0.00841465149590229, GA 200 iters:  89%|████████▉ | 152/170 [1:03:38<07:32, 25.12s/it]\n"
     ]
    },
    {
     "name": "stdout",
     "output_type": "stream",
     "text": [
      "\n",
      "\n",
      "\n",
      "\n",
      "INSTANCE: 8\n",
      "===> EXEC: 1\n",
      "Executing initial GA with 200 iterations\n"
     ]
    },
    {
     "name": "stderr",
     "output_type": "stream",
     "text": [
      "Temperature 0.008130098063673714, GA 200 iters:  86%|████████▌ | 146/170 [3:10:12<31:15, 78.17s/it]     \n"
     ]
    },
    {
     "name": "stdout",
     "output_type": "stream",
     "text": [
      "\n",
      "\n",
      "\n",
      "\n",
      "INSTANCE: 9\n",
      "===> EXEC: 1\n",
      "Executing initial GA with 200 iterations\n"
     ]
    },
    {
     "name": "stderr",
     "output_type": "stream",
     "text": [
      "Temperature 0.008112586543828135, GA 200 iters:  98%|█████████▊| 167/170 [1:46:29<01:54, 38.26s/it]   \n"
     ]
    },
    {
     "name": "stdout",
     "output_type": "stream",
     "text": [
      "\n",
      "\n",
      "\n",
      "\n",
      "INSTANCE: 10\n",
      "===> EXEC: 1\n",
      "Executing initial GA with 200 iterations\n"
     ]
    },
    {
     "name": "stderr",
     "output_type": "stream",
     "text": [
      "Temperature 0.008130098063673713, GA 200 iters:  86%|████████▌ | 146/170 [1:04:51<10:39, 26.65s/it]"
     ]
    },
    {
     "name": "stdout",
     "output_type": "stream",
     "text": [
      "\n",
      "\n",
      "\n",
      "\n"
     ]
    },
    {
     "name": "stderr",
     "output_type": "stream",
     "text": [
      "\n"
     ]
    }
   ],
   "source": [
    "execute_lsaga(200, 20, nb_execs=1, start_inst=4, num_iterations_mms=(200,200,1))"
   ]
  },
  {
   "cell_type": "markdown",
   "metadata": {},
   "source": [
    "500 jobs 20 machines"
   ]
  },
  {
   "cell_type": "code",
   "execution_count": null,
   "metadata": {},
   "outputs": [],
   "source": [
    "execute_lsaga(500, 20)"
   ]
  },
  {
   "cell_type": "markdown",
   "metadata": {},
   "source": [
    "Podium bank size study"
   ]
  },
  {
   "cell_type": "code",
   "execution_count": 21,
   "metadata": {},
   "outputs": [
    {
     "name": "stdout",
     "output_type": "stream",
     "text": [
      "PBS: 0\n",
      "===> EXEC: 1\n",
      "Executing initial GA with 200 iterations\n"
     ]
    },
    {
     "name": "stderr",
     "output_type": "stream",
     "text": [
      "Temperature 0.029793808398182076, GA 200 iters:  68%|██████▊   | 116/170 [02:20<01:05,  1.21s/it]\n"
     ]
    },
    {
     "name": "stdout",
     "output_type": "stream",
     "text": [
      "===> EXEC: 2\n",
      "Executing initial GA with 300 iterations\n"
     ]
    },
    {
     "name": "stderr",
     "output_type": "stream",
     "text": [
      "Temperature 0.011128376603330777, GA 600 iters:  93%|█████████▎| 158/170 [02:14<00:10,  1.18it/s]\n"
     ]
    },
    {
     "name": "stdout",
     "output_type": "stream",
     "text": [
      "===> EXEC: 3\n",
      "Executing initial GA with 300 iterations\n"
     ]
    },
    {
     "name": "stderr",
     "output_type": "stream",
     "text": [
      "Temperature 0.029793808398182076, GA 400 iters:  67%|██████▋   | 114/170 [03:35<01:45,  1.89s/it]\n"
     ]
    },
    {
     "name": "stdout",
     "output_type": "stream",
     "text": [
      "\n",
      "\n",
      "\n",
      "\n",
      "PBS: 5\n",
      "===> EXEC: 1\n",
      "Executing initial GA with 300 iterations\n"
     ]
    },
    {
     "name": "stderr",
     "output_type": "stream",
     "text": [
      "Temperature 0.03553862754002753, GA 200 iters:  61%|██████    | 103/170 [03:19<02:09,  1.93s/it] \n"
     ]
    },
    {
     "name": "stdout",
     "output_type": "stream",
     "text": [
      "===> EXEC: 2\n",
      "Executing initial GA with 300 iterations\n"
     ]
    },
    {
     "name": "stderr",
     "output_type": "stream",
     "text": [
      "Temperature 0.028786288307422303, GA 400 iters:  64%|██████▎   | 108/170 [02:40<01:32,  1.48s/it]\n"
     ]
    },
    {
     "name": "stdout",
     "output_type": "stream",
     "text": [
      "===> EXEC: 3\n",
      "Executing initial GA with 500 iterations\n"
     ]
    },
    {
     "name": "stderr",
     "output_type": "stream",
     "text": [
      "Temperature 0.01638782912545112, GA 200 iters:  82%|████████▏ | 140/170 [03:21<00:43,  1.44s/it] \n"
     ]
    },
    {
     "name": "stdout",
     "output_type": "stream",
     "text": [
      "\n",
      "\n",
      "\n",
      "\n",
      "PBS: 10\n",
      "===> EXEC: 1\n",
      "Executing initial GA with 200 iterations\n"
     ]
    },
    {
     "name": "stderr",
     "output_type": "stream",
     "text": [
      "Temperature 0.029793808398182076, GA 400 iters:  67%|██████▋   | 114/170 [03:24<01:40,  1.79s/it]\n"
     ]
    },
    {
     "name": "stdout",
     "output_type": "stream",
     "text": [
      "===> EXEC: 2\n",
      "Executing initial GA with 300 iterations\n"
     ]
    },
    {
     "name": "stderr",
     "output_type": "stream",
     "text": [
      "Temperature 0.023266670980578743, GA 500 iters:  80%|████████  | 136/170 [04:15<01:03,  1.88s/it]\n"
     ]
    },
    {
     "name": "stdout",
     "output_type": "stream",
     "text": [
      "===> EXEC: 3\n",
      "Executing initial GA with 500 iterations\n"
     ]
    },
    {
     "name": "stderr",
     "output_type": "stream",
     "text": [
      "Temperature 0.03815204244769462, GA 300 iters:  56%|█████▌    | 95/170 [02:48<02:13,  1.77s/it] \n"
     ]
    },
    {
     "name": "stdout",
     "output_type": "stream",
     "text": [
      "\n",
      "\n",
      "\n",
      "\n",
      "PBS: 15\n",
      "===> EXEC: 1\n",
      "Executing initial GA with 200 iterations\n"
     ]
    },
    {
     "name": "stderr",
     "output_type": "stream",
     "text": [
      "Temperature 0.011920995226903009, GA 600 iters: 100%|██████████| 170/170 [08:47<00:00,  3.10s/it]\n"
     ]
    },
    {
     "name": "stdout",
     "output_type": "stream",
     "text": [
      "===> EXEC: 2\n",
      "Executing initial GA with 400 iterations\n"
     ]
    },
    {
     "name": "stderr",
     "output_type": "stream",
     "text": [
      "Temperature 0.015298213844384819, GA 200 iters:  75%|███████▍  | 127/170 [06:10<02:05,  2.92s/it]\n"
     ]
    },
    {
     "name": "stdout",
     "output_type": "stream",
     "text": [
      "===> EXEC: 3\n",
      "Executing initial GA with 500 iterations\n"
     ]
    },
    {
     "name": "stderr",
     "output_type": "stream",
     "text": [
      "Temperature 0.026814427558363874, GA 400 iters:  70%|███████   | 119/170 [9:28:07<4:03:28, 286.45s/it]    \n"
     ]
    },
    {
     "name": "stdout",
     "output_type": "stream",
     "text": [
      "\n",
      "\n",
      "\n",
      "\n",
      "PBS: 20\n",
      "===> EXEC: 1\n",
      "Executing initial GA with 500 iterations\n"
     ]
    },
    {
     "name": "stderr",
     "output_type": "stream",
     "text": [
      "Temperature 0.008709164298258871, GA 300 iters:  93%|█████████▎| 158/170 [19:20<01:28,  7.35s/it]\n"
     ]
    },
    {
     "name": "stdout",
     "output_type": "stream",
     "text": [
      "===> EXEC: 2\n",
      "Executing initial GA with 600 iterations\n"
     ]
    },
    {
     "name": "stderr",
     "output_type": "stream",
     "text": [
      "Temperature 0.010366082806002618, GA 400 iters:  97%|█████████▋| 165/170 [14:08<00:25,  5.14s/it]\n"
     ]
    },
    {
     "name": "stdout",
     "output_type": "stream",
     "text": [
      "===> EXEC: 3\n",
      "Executing initial GA with 200 iterations\n"
     ]
    },
    {
     "name": "stderr",
     "output_type": "stream",
     "text": [
      "Temperature 0.02023188780919892, GA 300 iters:  78%|███████▊  | 132/170 [09:30<02:44,  4.32s/it] \n"
     ]
    },
    {
     "name": "stdout",
     "output_type": "stream",
     "text": [
      "\n",
      "\n",
      "\n",
      "\n",
      "PBS: 25\n",
      "===> EXEC: 1\n",
      "Executing initial GA with 500 iterations\n"
     ]
    },
    {
     "name": "stderr",
     "output_type": "stream",
     "text": [
      "Temperature 0.008130098063673714, GA 300 iters:  86%|████████▌ | 146/170 [33:44<05:32, 13.87s/it]   \n"
     ]
    },
    {
     "name": "stdout",
     "output_type": "stream",
     "text": [
      "===> EXEC: 2\n",
      "Executing initial GA with 400 iterations\n"
     ]
    },
    {
     "name": "stderr",
     "output_type": "stream",
     "text": [
      "Temperature 0.020985204176110862, GA 200 iters:  70%|███████   | 119/170 [07:52<03:22,  3.97s/it]\n"
     ]
    },
    {
     "name": "stdout",
     "output_type": "stream",
     "text": [
      "===> EXEC: 3\n",
      "Executing initial GA with 200 iterations\n"
     ]
    },
    {
     "name": "stderr",
     "output_type": "stream",
     "text": [
      "Temperature 0.009676849220287638, GA 300 iters:  91%|█████████ | 154/170 [17:43<01:50,  6.91s/it]\n"
     ]
    },
    {
     "name": "stdout",
     "output_type": "stream",
     "text": [
      "\n",
      "\n",
      "\n",
      "\n",
      "PBS: 30\n",
      "===> EXEC: 1\n",
      "Executing initial GA with 600 iterations\n"
     ]
    },
    {
     "name": "stderr",
     "output_type": "stream",
     "text": [
      "Temperature 0.05045607613707611, GA 200 iters:  58%|█████▊    | 99/170 [04:08<02:58,  2.51s/it]\n"
     ]
    },
    {
     "name": "stdout",
     "output_type": "stream",
     "text": [
      "===> EXEC: 2\n",
      "Executing initial GA with 400 iterations\n"
     ]
    },
    {
     "name": "stderr",
     "output_type": "stream",
     "text": [
      "Temperature 0.03310423155353564, GA 400 iters:  65%|██████▌   | 111/170 [08:12<04:21,  4.44s/it]\n"
     ]
    },
    {
     "name": "stdout",
     "output_type": "stream",
     "text": [
      "===> EXEC: 3\n",
      "Executing initial GA with 600 iterations\n"
     ]
    },
    {
     "name": "stderr",
     "output_type": "stream",
     "text": [
      "Temperature 0.13479421012726503, GA 400 iters:  47%|████▋     | 80/170 [02:27<02:46,  1.85s/it]"
     ]
    },
    {
     "name": "stdout",
     "output_type": "stream",
     "text": [
      "\n",
      "\n",
      "\n",
      "\n"
     ]
    },
    {
     "name": "stderr",
     "output_type": "stream",
     "text": [
      "\n"
     ]
    }
   ],
   "source": [
    "nb_jobs = 20\n",
    "nb_machines = 5\n",
    "num_instance = 1\n",
    "nb_execs_per_pbs = 3\n",
    "num_iterations_mms = (200, 600, 100)\n",
    "pbs_mms = (35,50, 5)\n",
    "pbs_mms = (pbs_mms[0], pbs_mms[1]+1, pbs_mms[2])\n",
    "date_time = datetime.datetime.now()\n",
    "results_file_path = f'results/podium_bank_size_effect/tai{nb_jobs}_{nb_machines}/instance{num_instance}/{date_time.year}_{date_time.month}_{date_time.day}_{date_time.hour}_{date_time.minute}_{date_time.second}.txt'\n",
    "os.makedirs(os.path.dirname(results_file_path), exist_ok=True)\n",
    "with open(results_file_path, 'a') as f:\n",
    "    f.write(f'nb_jobs: {nb_jobs}\\n')\n",
    "    f.write(f'nb_machines: {nb_machines}\\n')\n",
    "    f.write(f'num_instance: {num_instance}\\n')\n",
    "    f.write(f'pbs_mms: {pbs_mms}\\n')\n",
    "    f.write(f'nb_execs_per_podium_bank_size: {nb_execs_per_pbs}\\n')\n",
    "    f.write(f'\\n\\n')\n",
    "instance = load_tai(nb_jobs, nb_machines)[num_instance-1]\n",
    "t_init = time.time()\n",
    "lsaga = LSAGA(instance,\n",
    "            variety_degree=5,\n",
    "            num_hyper_params_neigh_window=2, #numeric hyper-parameters neighboring window size\n",
    "            cat_neigh_ratio=0.4,\n",
    "            num_iterations_mms=num_iterations_mms\n",
    "          )\n",
    "for pbs in range(*pbs_mms):\n",
    "  print(\"PBS:\", pbs)\n",
    "  with open(results_file_path, 'a') as f:\n",
    "    f.write(f'pbs: {pbs}\\n')\n",
    "    f.write(f'\\n')\n",
    "  mean_make_span = 0\n",
    "  min_make_span = float('infinity')\n",
    "  for exec in range(nb_execs_per_pbs):\n",
    "    print(\"===> EXEC:\", exec+1)\n",
    "    random.seed()\n",
    "    np.random.seed()\n",
    "    t_optim = time.time()\n",
    "    lsaga.podium_bank = PodiumBank(size=pbs)\n",
    "    lsaga.optim(T=1,\n",
    "                T_min=0.008,\n",
    "                alpha=0.9, # decay factor\n",
    "                beta=100, # exploration factor\n",
    "                nb_iter=170,\n",
    "                length_palier=3,\n",
    "                jump_rate=0.05,\n",
    "                jump_ratio=1.15,\n",
    "                max_stag=40,\n",
    "                trace=True)\n",
    "    t_finish = time.time()\n",
    "    mean_make_span += lsaga.make_span_star\n",
    "    if lsaga.make_span_star < min_make_span:\n",
    "      min_make_span = lsaga.make_span_star\n",
    "    with open(results_file_path, 'a') as f:\n",
    "      f.write(f'seq_star: {lsaga.seq_star}\\n')\n",
    "      f.write(f'make_span_star: {lsaga.make_span_star}\\n')\n",
    "      f.write(f'hps_star: {lsaga.hps_star}\\n')\n",
    "      f.write(f'hps_star_trace: {lsaga.hps_star_trace}\\n')\n",
    "      f.write(f'current_make_span_trace: {lsaga.current_make_span_trace}\\n')\n",
    "      f.write(f'podium_bank: {lsaga.podium_bank.bank}\\n')\n",
    "      f.write(f'nb_podium_bank_usage: {lsaga.nb_podium_bank_usage}\\n')\n",
    "      f.write(f'nb_deteriorations: {lsaga.nb_deteriorations}\\n')\n",
    "      f.write(f'nb_jumps: {lsaga.nb_jumps}\\n')\n",
    "      f.write(f'left_of_stagnation: {lsaga.left_of_stagnation}\\n')\n",
    "      f.write(f'nb_sa_iters: {lsaga.nb_sa_iters}\\n')\n",
    "      f.write(f'execution_time_with_init: {t_finish-t_init}\\n')\n",
    "      f.write(f'execution_time_without_init: {t_finish-t_optim}\\n')\n",
    "      f.write('\\n')\n",
    "  with open(results_file_path, 'a') as f:\n",
    "    f.write(f'min_make_span: {min_make_span}\\n')\n",
    "    f.write(f'mean_make_span: {mean_make_span/nb_execs_per_pbs}\\n')\n",
    "    f.write(f'\\n\\n')\n",
    "    print('\\n\\n\\n')"
   ]
  }
 ],
 "metadata": {
  "kernelspec": {
   "display_name": "aivenv",
   "language": "python",
   "name": "python3"
  },
  "language_info": {
   "codemirror_mode": {
    "name": "ipython",
    "version": 3
   },
   "file_extension": ".py",
   "mimetype": "text/x-python",
   "name": "python",
   "nbconvert_exporter": "python",
   "pygments_lexer": "ipython3",
   "version": "3.11.8"
  }
 },
 "nbformat": 4,
 "nbformat_minor": 2
}
